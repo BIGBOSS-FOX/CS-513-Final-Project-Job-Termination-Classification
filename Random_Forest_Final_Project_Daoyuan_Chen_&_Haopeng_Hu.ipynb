{
  "nbformat": 4,
  "nbformat_minor": 0,
  "metadata": {
    "colab": {
      "name": "Random Forest Final Project Daoyuan Chen & Haopeng Hu.ipynb",
      "provenance": [],
      "collapsed_sections": [],
      "authorship_tag": "ABX9TyM03Jwn7t8CodEoXKiYXSBo",
      "include_colab_link": true
    },
    "kernelspec": {
      "name": "python3",
      "display_name": "Python 3"
    }
  },
  "cells": [
    {
      "cell_type": "markdown",
      "metadata": {
        "id": "view-in-github",
        "colab_type": "text"
      },
      "source": [
        "<a href=\"https://colab.research.google.com/github/BIGBOSS-FOX/CS-513-Final-Project-Job-Termination-Classification/blob/master/Random_Forest_Final_Project_Daoyuan_Chen_%26_Haopeng_Hu.ipynb\" target=\"_parent\"><img src=\"https://colab.research.google.com/assets/colab-badge.svg\" alt=\"Open In Colab\"/></a>"
      ]
    },
    {
      "cell_type": "markdown",
      "metadata": {
        "id": "cOjlWirnnsD-",
        "colab_type": "text"
      },
      "source": [
        "# Load the \"attrition_data.csv\""
      ]
    },
    {
      "cell_type": "code",
      "metadata": {
        "id": "5NG2AjmsmBw4",
        "colab_type": "code",
        "colab": {
          "base_uri": "https://localhost:8080/",
          "height": 609
        },
        "outputId": "ece54551-f291-4739-8877-fb424193b9c6"
      },
      "source": [
        "import pandas as pd\n",
        "\n",
        "data = pd.read_csv(\"attrition_data.csv\")\n",
        "\n",
        "data"
      ],
      "execution_count": 1,
      "outputs": [
        {
          "output_type": "execute_result",
          "data": {
            "text/html": [
              "<div>\n",
              "<style scoped>\n",
              "    .dataframe tbody tr th:only-of-type {\n",
              "        vertical-align: middle;\n",
              "    }\n",
              "\n",
              "    .dataframe tbody tr th {\n",
              "        vertical-align: top;\n",
              "    }\n",
              "\n",
              "    .dataframe thead th {\n",
              "        text-align: right;\n",
              "    }\n",
              "</style>\n",
              "<table border=\"1\" class=\"dataframe\">\n",
              "  <thead>\n",
              "    <tr style=\"text-align: right;\">\n",
              "      <th></th>\n",
              "      <th>EMP_ID</th>\n",
              "      <th>ANNUAL_RATE</th>\n",
              "      <th>HRLY_RATE</th>\n",
              "      <th>JOBCODE</th>\n",
              "      <th>ETHNICITY</th>\n",
              "      <th>SEX</th>\n",
              "      <th>MARITAL_STATUS</th>\n",
              "      <th>JOB_SATISFACTION</th>\n",
              "      <th>AGE</th>\n",
              "      <th>NUMBER_OF_TEAM_CHANGED</th>\n",
              "      <th>REFERRAL_SOURCE</th>\n",
              "      <th>HIRE_MONTH</th>\n",
              "      <th>REHIRE</th>\n",
              "      <th>TERMINATION_YEAR</th>\n",
              "      <th>IS_FIRST_JOB</th>\n",
              "      <th>TRAVELLED_REQUIRED</th>\n",
              "      <th>PERFORMANCE_RATING</th>\n",
              "      <th>DISABLED_EMP</th>\n",
              "      <th>DISABLED_VET</th>\n",
              "      <th>EDUCATION_LEVEL</th>\n",
              "      <th>STATUS</th>\n",
              "      <th>JOB_GROUP</th>\n",
              "      <th>PREVYR_1</th>\n",
              "      <th>PREVYR_2</th>\n",
              "      <th>PREVYR_3</th>\n",
              "      <th>PREVYR_4</th>\n",
              "      <th>PREVYR_5</th>\n",
              "    </tr>\n",
              "  </thead>\n",
              "  <tbody>\n",
              "    <tr>\n",
              "      <th>0</th>\n",
              "      <td>3285941608</td>\n",
              "      <td>33615</td>\n",
              "      <td>22</td>\n",
              "      <td>71850</td>\n",
              "      <td>BLACK</td>\n",
              "      <td>F</td>\n",
              "      <td>Divorced</td>\n",
              "      <td>4</td>\n",
              "      <td>35</td>\n",
              "      <td>3+</td>\n",
              "      <td>Client Referral</td>\n",
              "      <td>June</td>\n",
              "      <td>False</td>\n",
              "      <td>2008.0</td>\n",
              "      <td>N</td>\n",
              "      <td>N</td>\n",
              "      <td>4</td>\n",
              "      <td>N</td>\n",
              "      <td>N</td>\n",
              "      <td>LEVEL 2</td>\n",
              "      <td>T</td>\n",
              "      <td>Plant &amp; Facilities Maintenance</td>\n",
              "      <td>0</td>\n",
              "      <td>0</td>\n",
              "      <td>0</td>\n",
              "      <td>0</td>\n",
              "      <td>0</td>\n",
              "    </tr>\n",
              "    <tr>\n",
              "      <th>1</th>\n",
              "      <td>3687079832</td>\n",
              "      <td>70675</td>\n",
              "      <td>40</td>\n",
              "      <td>59806</td>\n",
              "      <td>ASIAN</td>\n",
              "      <td>M</td>\n",
              "      <td>Single</td>\n",
              "      <td>3</td>\n",
              "      <td>18</td>\n",
              "      <td>3+</td>\n",
              "      <td>Executive Referral</td>\n",
              "      <td>June</td>\n",
              "      <td>False</td>\n",
              "      <td>NaN</td>\n",
              "      <td>Y</td>\n",
              "      <td>N</td>\n",
              "      <td>3</td>\n",
              "      <td>N</td>\n",
              "      <td>N</td>\n",
              "      <td>LEVEL 1</td>\n",
              "      <td>A</td>\n",
              "      <td>Customer Care</td>\n",
              "      <td>3</td>\n",
              "      <td>3</td>\n",
              "      <td>3</td>\n",
              "      <td>2</td>\n",
              "      <td>3</td>\n",
              "    </tr>\n",
              "    <tr>\n",
              "      <th>2</th>\n",
              "      <td>7209970080</td>\n",
              "      <td>34320</td>\n",
              "      <td>23</td>\n",
              "      <td>60311</td>\n",
              "      <td>WHITE</td>\n",
              "      <td>F</td>\n",
              "      <td>Single</td>\n",
              "      <td>5</td>\n",
              "      <td>18</td>\n",
              "      <td>2</td>\n",
              "      <td>Former Employee/Intern</td>\n",
              "      <td>February</td>\n",
              "      <td>False</td>\n",
              "      <td>NaN</td>\n",
              "      <td>Y</td>\n",
              "      <td>N</td>\n",
              "      <td>3</td>\n",
              "      <td>N</td>\n",
              "      <td>N</td>\n",
              "      <td>LEVEL 1</td>\n",
              "      <td>A</td>\n",
              "      <td>Customer Care</td>\n",
              "      <td>3</td>\n",
              "      <td>3</td>\n",
              "      <td>3</td>\n",
              "      <td>2</td>\n",
              "      <td>3</td>\n",
              "    </tr>\n",
              "    <tr>\n",
              "      <th>3</th>\n",
              "      <td>9084013977</td>\n",
              "      <td>103199</td>\n",
              "      <td>59</td>\n",
              "      <td>16233</td>\n",
              "      <td>ASIAN</td>\n",
              "      <td>F</td>\n",
              "      <td>Single</td>\n",
              "      <td>2</td>\n",
              "      <td>50</td>\n",
              "      <td>0</td>\n",
              "      <td>Direct Sourcing</td>\n",
              "      <td>October</td>\n",
              "      <td>True</td>\n",
              "      <td>2005.0</td>\n",
              "      <td>N</td>\n",
              "      <td>Y</td>\n",
              "      <td>2</td>\n",
              "      <td>N</td>\n",
              "      <td>N</td>\n",
              "      <td>LEVEL 1</td>\n",
              "      <td>T</td>\n",
              "      <td>Finance</td>\n",
              "      <td>0</td>\n",
              "      <td>0</td>\n",
              "      <td>0</td>\n",
              "      <td>0</td>\n",
              "      <td>0</td>\n",
              "    </tr>\n",
              "    <tr>\n",
              "      <th>4</th>\n",
              "      <td>4566148978</td>\n",
              "      <td>141801</td>\n",
              "      <td>71</td>\n",
              "      <td>64415</td>\n",
              "      <td>ASIAN</td>\n",
              "      <td>F</td>\n",
              "      <td>Single</td>\n",
              "      <td>4</td>\n",
              "      <td>34</td>\n",
              "      <td>3</td>\n",
              "      <td>Inroads</td>\n",
              "      <td>May</td>\n",
              "      <td>False</td>\n",
              "      <td>NaN</td>\n",
              "      <td>N</td>\n",
              "      <td>N</td>\n",
              "      <td>4</td>\n",
              "      <td>N</td>\n",
              "      <td>N</td>\n",
              "      <td>LEVEL 1</td>\n",
              "      <td>A</td>\n",
              "      <td>Marketing - Direct</td>\n",
              "      <td>2</td>\n",
              "      <td>2</td>\n",
              "      <td>2</td>\n",
              "      <td>2</td>\n",
              "      <td>2</td>\n",
              "    </tr>\n",
              "    <tr>\n",
              "      <th>...</th>\n",
              "      <td>...</td>\n",
              "      <td>...</td>\n",
              "      <td>...</td>\n",
              "      <td>...</td>\n",
              "      <td>...</td>\n",
              "      <td>...</td>\n",
              "      <td>...</td>\n",
              "      <td>...</td>\n",
              "      <td>...</td>\n",
              "      <td>...</td>\n",
              "      <td>...</td>\n",
              "      <td>...</td>\n",
              "      <td>...</td>\n",
              "      <td>...</td>\n",
              "      <td>...</td>\n",
              "      <td>...</td>\n",
              "      <td>...</td>\n",
              "      <td>...</td>\n",
              "      <td>...</td>\n",
              "      <td>...</td>\n",
              "      <td>...</td>\n",
              "      <td>...</td>\n",
              "      <td>...</td>\n",
              "      <td>...</td>\n",
              "      <td>...</td>\n",
              "      <td>...</td>\n",
              "      <td>...</td>\n",
              "    </tr>\n",
              "    <tr>\n",
              "      <th>9607</th>\n",
              "      <td>8595959073</td>\n",
              "      <td>34636</td>\n",
              "      <td>23</td>\n",
              "      <td>58258</td>\n",
              "      <td>ASIAN</td>\n",
              "      <td>F</td>\n",
              "      <td>Single</td>\n",
              "      <td>1</td>\n",
              "      <td>43</td>\n",
              "      <td>0</td>\n",
              "      <td>Staffing Agency</td>\n",
              "      <td>July</td>\n",
              "      <td>False</td>\n",
              "      <td>NaN</td>\n",
              "      <td>N</td>\n",
              "      <td>N</td>\n",
              "      <td>1</td>\n",
              "      <td>N</td>\n",
              "      <td>Y</td>\n",
              "      <td>LEVEL 1</td>\n",
              "      <td>A</td>\n",
              "      <td>Physical Flows</td>\n",
              "      <td>0</td>\n",
              "      <td>0</td>\n",
              "      <td>0</td>\n",
              "      <td>0</td>\n",
              "      <td>0</td>\n",
              "    </tr>\n",
              "    <tr>\n",
              "      <th>9608</th>\n",
              "      <td>4606362550</td>\n",
              "      <td>34962</td>\n",
              "      <td>27</td>\n",
              "      <td>58258</td>\n",
              "      <td>WHITE</td>\n",
              "      <td>F</td>\n",
              "      <td>Single</td>\n",
              "      <td>5</td>\n",
              "      <td>28</td>\n",
              "      <td>2</td>\n",
              "      <td>NaN</td>\n",
              "      <td>November</td>\n",
              "      <td>False</td>\n",
              "      <td>NaN</td>\n",
              "      <td>N</td>\n",
              "      <td>N</td>\n",
              "      <td>1</td>\n",
              "      <td>N</td>\n",
              "      <td>N</td>\n",
              "      <td>LEVEL 3</td>\n",
              "      <td>A</td>\n",
              "      <td>Physical Flows</td>\n",
              "      <td>0</td>\n",
              "      <td>0</td>\n",
              "      <td>0</td>\n",
              "      <td>0</td>\n",
              "      <td>0</td>\n",
              "    </tr>\n",
              "    <tr>\n",
              "      <th>9609</th>\n",
              "      <td>5856364670</td>\n",
              "      <td>39286</td>\n",
              "      <td>27</td>\n",
              "      <td>36545</td>\n",
              "      <td>WHITE</td>\n",
              "      <td>F</td>\n",
              "      <td>Single</td>\n",
              "      <td>3</td>\n",
              "      <td>31</td>\n",
              "      <td>2</td>\n",
              "      <td>Executive Referral</td>\n",
              "      <td>February</td>\n",
              "      <td>False</td>\n",
              "      <td>NaN</td>\n",
              "      <td>N</td>\n",
              "      <td>N</td>\n",
              "      <td>1</td>\n",
              "      <td>N</td>\n",
              "      <td>N</td>\n",
              "      <td>LEVEL 3</td>\n",
              "      <td>A</td>\n",
              "      <td>Production &amp; Operations</td>\n",
              "      <td>0</td>\n",
              "      <td>0</td>\n",
              "      <td>0</td>\n",
              "      <td>0</td>\n",
              "      <td>0</td>\n",
              "    </tr>\n",
              "    <tr>\n",
              "      <th>9610</th>\n",
              "      <td>5388746486</td>\n",
              "      <td>39145</td>\n",
              "      <td>27</td>\n",
              "      <td>44203</td>\n",
              "      <td>WHITE</td>\n",
              "      <td>M</td>\n",
              "      <td>Married</td>\n",
              "      <td>4</td>\n",
              "      <td>32</td>\n",
              "      <td>3+</td>\n",
              "      <td>Open House</td>\n",
              "      <td>February</td>\n",
              "      <td>False</td>\n",
              "      <td>NaN</td>\n",
              "      <td>N</td>\n",
              "      <td>N</td>\n",
              "      <td>4</td>\n",
              "      <td>N</td>\n",
              "      <td>N</td>\n",
              "      <td>LEVEL 2</td>\n",
              "      <td>A</td>\n",
              "      <td>Production &amp; Operations</td>\n",
              "      <td>0</td>\n",
              "      <td>0</td>\n",
              "      <td>0</td>\n",
              "      <td>0</td>\n",
              "      <td>0</td>\n",
              "    </tr>\n",
              "    <tr>\n",
              "      <th>9611</th>\n",
              "      <td>6401616257</td>\n",
              "      <td>90726</td>\n",
              "      <td>50</td>\n",
              "      <td>89546</td>\n",
              "      <td>WHITE</td>\n",
              "      <td>F</td>\n",
              "      <td>Single</td>\n",
              "      <td>1</td>\n",
              "      <td>46</td>\n",
              "      <td>0</td>\n",
              "      <td>Job Posting</td>\n",
              "      <td>November</td>\n",
              "      <td>False</td>\n",
              "      <td>NaN</td>\n",
              "      <td>N</td>\n",
              "      <td>N</td>\n",
              "      <td>1</td>\n",
              "      <td>N</td>\n",
              "      <td>N</td>\n",
              "      <td>LEVEL 4</td>\n",
              "      <td>A</td>\n",
              "      <td>Physical Flows</td>\n",
              "      <td>0</td>\n",
              "      <td>0</td>\n",
              "      <td>0</td>\n",
              "      <td>0</td>\n",
              "      <td>0</td>\n",
              "    </tr>\n",
              "  </tbody>\n",
              "</table>\n",
              "<p>9612 rows × 27 columns</p>\n",
              "</div>"
            ],
            "text/plain": [
              "          EMP_ID  ANNUAL_RATE  HRLY_RATE  ...  PREVYR_3 PREVYR_4 PREVYR_5\n",
              "0     3285941608        33615         22  ...         0        0        0\n",
              "1     3687079832        70675         40  ...         3        2        3\n",
              "2     7209970080        34320         23  ...         3        2        3\n",
              "3     9084013977       103199         59  ...         0        0        0\n",
              "4     4566148978       141801         71  ...         2        2        2\n",
              "...          ...          ...        ...  ...       ...      ...      ...\n",
              "9607  8595959073        34636         23  ...         0        0        0\n",
              "9608  4606362550        34962         27  ...         0        0        0\n",
              "9609  5856364670        39286         27  ...         0        0        0\n",
              "9610  5388746486        39145         27  ...         0        0        0\n",
              "9611  6401616257        90726         50  ...         0        0        0\n",
              "\n",
              "[9612 rows x 27 columns]"
            ]
          },
          "metadata": {
            "tags": []
          },
          "execution_count": 1
        }
      ]
    },
    {
      "cell_type": "markdown",
      "metadata": {
        "id": "CojPFFcmoHy9",
        "colab_type": "text"
      },
      "source": [
        "# Drop \"EMP_ID\" and \"TERMINATION_YEAR\""
      ]
    },
    {
      "cell_type": "code",
      "metadata": {
        "id": "H-v6HqBAoJmr",
        "colab_type": "code",
        "colab": {
          "base_uri": "https://localhost:8080/",
          "height": 609
        },
        "outputId": "db248f59-2a01-4fd0-84e0-282ab657df7d"
      },
      "source": [
        "data.drop([\"EMP_ID\", \"TERMINATION_YEAR\"], axis=1, inplace=True)\n",
        "\n",
        "data"
      ],
      "execution_count": 2,
      "outputs": [
        {
          "output_type": "execute_result",
          "data": {
            "text/html": [
              "<div>\n",
              "<style scoped>\n",
              "    .dataframe tbody tr th:only-of-type {\n",
              "        vertical-align: middle;\n",
              "    }\n",
              "\n",
              "    .dataframe tbody tr th {\n",
              "        vertical-align: top;\n",
              "    }\n",
              "\n",
              "    .dataframe thead th {\n",
              "        text-align: right;\n",
              "    }\n",
              "</style>\n",
              "<table border=\"1\" class=\"dataframe\">\n",
              "  <thead>\n",
              "    <tr style=\"text-align: right;\">\n",
              "      <th></th>\n",
              "      <th>ANNUAL_RATE</th>\n",
              "      <th>HRLY_RATE</th>\n",
              "      <th>JOBCODE</th>\n",
              "      <th>ETHNICITY</th>\n",
              "      <th>SEX</th>\n",
              "      <th>MARITAL_STATUS</th>\n",
              "      <th>JOB_SATISFACTION</th>\n",
              "      <th>AGE</th>\n",
              "      <th>NUMBER_OF_TEAM_CHANGED</th>\n",
              "      <th>REFERRAL_SOURCE</th>\n",
              "      <th>HIRE_MONTH</th>\n",
              "      <th>REHIRE</th>\n",
              "      <th>IS_FIRST_JOB</th>\n",
              "      <th>TRAVELLED_REQUIRED</th>\n",
              "      <th>PERFORMANCE_RATING</th>\n",
              "      <th>DISABLED_EMP</th>\n",
              "      <th>DISABLED_VET</th>\n",
              "      <th>EDUCATION_LEVEL</th>\n",
              "      <th>STATUS</th>\n",
              "      <th>JOB_GROUP</th>\n",
              "      <th>PREVYR_1</th>\n",
              "      <th>PREVYR_2</th>\n",
              "      <th>PREVYR_3</th>\n",
              "      <th>PREVYR_4</th>\n",
              "      <th>PREVYR_5</th>\n",
              "    </tr>\n",
              "  </thead>\n",
              "  <tbody>\n",
              "    <tr>\n",
              "      <th>0</th>\n",
              "      <td>33615</td>\n",
              "      <td>22</td>\n",
              "      <td>71850</td>\n",
              "      <td>BLACK</td>\n",
              "      <td>F</td>\n",
              "      <td>Divorced</td>\n",
              "      <td>4</td>\n",
              "      <td>35</td>\n",
              "      <td>3+</td>\n",
              "      <td>Client Referral</td>\n",
              "      <td>June</td>\n",
              "      <td>False</td>\n",
              "      <td>N</td>\n",
              "      <td>N</td>\n",
              "      <td>4</td>\n",
              "      <td>N</td>\n",
              "      <td>N</td>\n",
              "      <td>LEVEL 2</td>\n",
              "      <td>T</td>\n",
              "      <td>Plant &amp; Facilities Maintenance</td>\n",
              "      <td>0</td>\n",
              "      <td>0</td>\n",
              "      <td>0</td>\n",
              "      <td>0</td>\n",
              "      <td>0</td>\n",
              "    </tr>\n",
              "    <tr>\n",
              "      <th>1</th>\n",
              "      <td>70675</td>\n",
              "      <td>40</td>\n",
              "      <td>59806</td>\n",
              "      <td>ASIAN</td>\n",
              "      <td>M</td>\n",
              "      <td>Single</td>\n",
              "      <td>3</td>\n",
              "      <td>18</td>\n",
              "      <td>3+</td>\n",
              "      <td>Executive Referral</td>\n",
              "      <td>June</td>\n",
              "      <td>False</td>\n",
              "      <td>Y</td>\n",
              "      <td>N</td>\n",
              "      <td>3</td>\n",
              "      <td>N</td>\n",
              "      <td>N</td>\n",
              "      <td>LEVEL 1</td>\n",
              "      <td>A</td>\n",
              "      <td>Customer Care</td>\n",
              "      <td>3</td>\n",
              "      <td>3</td>\n",
              "      <td>3</td>\n",
              "      <td>2</td>\n",
              "      <td>3</td>\n",
              "    </tr>\n",
              "    <tr>\n",
              "      <th>2</th>\n",
              "      <td>34320</td>\n",
              "      <td>23</td>\n",
              "      <td>60311</td>\n",
              "      <td>WHITE</td>\n",
              "      <td>F</td>\n",
              "      <td>Single</td>\n",
              "      <td>5</td>\n",
              "      <td>18</td>\n",
              "      <td>2</td>\n",
              "      <td>Former Employee/Intern</td>\n",
              "      <td>February</td>\n",
              "      <td>False</td>\n",
              "      <td>Y</td>\n",
              "      <td>N</td>\n",
              "      <td>3</td>\n",
              "      <td>N</td>\n",
              "      <td>N</td>\n",
              "      <td>LEVEL 1</td>\n",
              "      <td>A</td>\n",
              "      <td>Customer Care</td>\n",
              "      <td>3</td>\n",
              "      <td>3</td>\n",
              "      <td>3</td>\n",
              "      <td>2</td>\n",
              "      <td>3</td>\n",
              "    </tr>\n",
              "    <tr>\n",
              "      <th>3</th>\n",
              "      <td>103199</td>\n",
              "      <td>59</td>\n",
              "      <td>16233</td>\n",
              "      <td>ASIAN</td>\n",
              "      <td>F</td>\n",
              "      <td>Single</td>\n",
              "      <td>2</td>\n",
              "      <td>50</td>\n",
              "      <td>0</td>\n",
              "      <td>Direct Sourcing</td>\n",
              "      <td>October</td>\n",
              "      <td>True</td>\n",
              "      <td>N</td>\n",
              "      <td>Y</td>\n",
              "      <td>2</td>\n",
              "      <td>N</td>\n",
              "      <td>N</td>\n",
              "      <td>LEVEL 1</td>\n",
              "      <td>T</td>\n",
              "      <td>Finance</td>\n",
              "      <td>0</td>\n",
              "      <td>0</td>\n",
              "      <td>0</td>\n",
              "      <td>0</td>\n",
              "      <td>0</td>\n",
              "    </tr>\n",
              "    <tr>\n",
              "      <th>4</th>\n",
              "      <td>141801</td>\n",
              "      <td>71</td>\n",
              "      <td>64415</td>\n",
              "      <td>ASIAN</td>\n",
              "      <td>F</td>\n",
              "      <td>Single</td>\n",
              "      <td>4</td>\n",
              "      <td>34</td>\n",
              "      <td>3</td>\n",
              "      <td>Inroads</td>\n",
              "      <td>May</td>\n",
              "      <td>False</td>\n",
              "      <td>N</td>\n",
              "      <td>N</td>\n",
              "      <td>4</td>\n",
              "      <td>N</td>\n",
              "      <td>N</td>\n",
              "      <td>LEVEL 1</td>\n",
              "      <td>A</td>\n",
              "      <td>Marketing - Direct</td>\n",
              "      <td>2</td>\n",
              "      <td>2</td>\n",
              "      <td>2</td>\n",
              "      <td>2</td>\n",
              "      <td>2</td>\n",
              "    </tr>\n",
              "    <tr>\n",
              "      <th>...</th>\n",
              "      <td>...</td>\n",
              "      <td>...</td>\n",
              "      <td>...</td>\n",
              "      <td>...</td>\n",
              "      <td>...</td>\n",
              "      <td>...</td>\n",
              "      <td>...</td>\n",
              "      <td>...</td>\n",
              "      <td>...</td>\n",
              "      <td>...</td>\n",
              "      <td>...</td>\n",
              "      <td>...</td>\n",
              "      <td>...</td>\n",
              "      <td>...</td>\n",
              "      <td>...</td>\n",
              "      <td>...</td>\n",
              "      <td>...</td>\n",
              "      <td>...</td>\n",
              "      <td>...</td>\n",
              "      <td>...</td>\n",
              "      <td>...</td>\n",
              "      <td>...</td>\n",
              "      <td>...</td>\n",
              "      <td>...</td>\n",
              "      <td>...</td>\n",
              "    </tr>\n",
              "    <tr>\n",
              "      <th>9607</th>\n",
              "      <td>34636</td>\n",
              "      <td>23</td>\n",
              "      <td>58258</td>\n",
              "      <td>ASIAN</td>\n",
              "      <td>F</td>\n",
              "      <td>Single</td>\n",
              "      <td>1</td>\n",
              "      <td>43</td>\n",
              "      <td>0</td>\n",
              "      <td>Staffing Agency</td>\n",
              "      <td>July</td>\n",
              "      <td>False</td>\n",
              "      <td>N</td>\n",
              "      <td>N</td>\n",
              "      <td>1</td>\n",
              "      <td>N</td>\n",
              "      <td>Y</td>\n",
              "      <td>LEVEL 1</td>\n",
              "      <td>A</td>\n",
              "      <td>Physical Flows</td>\n",
              "      <td>0</td>\n",
              "      <td>0</td>\n",
              "      <td>0</td>\n",
              "      <td>0</td>\n",
              "      <td>0</td>\n",
              "    </tr>\n",
              "    <tr>\n",
              "      <th>9608</th>\n",
              "      <td>34962</td>\n",
              "      <td>27</td>\n",
              "      <td>58258</td>\n",
              "      <td>WHITE</td>\n",
              "      <td>F</td>\n",
              "      <td>Single</td>\n",
              "      <td>5</td>\n",
              "      <td>28</td>\n",
              "      <td>2</td>\n",
              "      <td>NaN</td>\n",
              "      <td>November</td>\n",
              "      <td>False</td>\n",
              "      <td>N</td>\n",
              "      <td>N</td>\n",
              "      <td>1</td>\n",
              "      <td>N</td>\n",
              "      <td>N</td>\n",
              "      <td>LEVEL 3</td>\n",
              "      <td>A</td>\n",
              "      <td>Physical Flows</td>\n",
              "      <td>0</td>\n",
              "      <td>0</td>\n",
              "      <td>0</td>\n",
              "      <td>0</td>\n",
              "      <td>0</td>\n",
              "    </tr>\n",
              "    <tr>\n",
              "      <th>9609</th>\n",
              "      <td>39286</td>\n",
              "      <td>27</td>\n",
              "      <td>36545</td>\n",
              "      <td>WHITE</td>\n",
              "      <td>F</td>\n",
              "      <td>Single</td>\n",
              "      <td>3</td>\n",
              "      <td>31</td>\n",
              "      <td>2</td>\n",
              "      <td>Executive Referral</td>\n",
              "      <td>February</td>\n",
              "      <td>False</td>\n",
              "      <td>N</td>\n",
              "      <td>N</td>\n",
              "      <td>1</td>\n",
              "      <td>N</td>\n",
              "      <td>N</td>\n",
              "      <td>LEVEL 3</td>\n",
              "      <td>A</td>\n",
              "      <td>Production &amp; Operations</td>\n",
              "      <td>0</td>\n",
              "      <td>0</td>\n",
              "      <td>0</td>\n",
              "      <td>0</td>\n",
              "      <td>0</td>\n",
              "    </tr>\n",
              "    <tr>\n",
              "      <th>9610</th>\n",
              "      <td>39145</td>\n",
              "      <td>27</td>\n",
              "      <td>44203</td>\n",
              "      <td>WHITE</td>\n",
              "      <td>M</td>\n",
              "      <td>Married</td>\n",
              "      <td>4</td>\n",
              "      <td>32</td>\n",
              "      <td>3+</td>\n",
              "      <td>Open House</td>\n",
              "      <td>February</td>\n",
              "      <td>False</td>\n",
              "      <td>N</td>\n",
              "      <td>N</td>\n",
              "      <td>4</td>\n",
              "      <td>N</td>\n",
              "      <td>N</td>\n",
              "      <td>LEVEL 2</td>\n",
              "      <td>A</td>\n",
              "      <td>Production &amp; Operations</td>\n",
              "      <td>0</td>\n",
              "      <td>0</td>\n",
              "      <td>0</td>\n",
              "      <td>0</td>\n",
              "      <td>0</td>\n",
              "    </tr>\n",
              "    <tr>\n",
              "      <th>9611</th>\n",
              "      <td>90726</td>\n",
              "      <td>50</td>\n",
              "      <td>89546</td>\n",
              "      <td>WHITE</td>\n",
              "      <td>F</td>\n",
              "      <td>Single</td>\n",
              "      <td>1</td>\n",
              "      <td>46</td>\n",
              "      <td>0</td>\n",
              "      <td>Job Posting</td>\n",
              "      <td>November</td>\n",
              "      <td>False</td>\n",
              "      <td>N</td>\n",
              "      <td>N</td>\n",
              "      <td>1</td>\n",
              "      <td>N</td>\n",
              "      <td>N</td>\n",
              "      <td>LEVEL 4</td>\n",
              "      <td>A</td>\n",
              "      <td>Physical Flows</td>\n",
              "      <td>0</td>\n",
              "      <td>0</td>\n",
              "      <td>0</td>\n",
              "      <td>0</td>\n",
              "      <td>0</td>\n",
              "    </tr>\n",
              "  </tbody>\n",
              "</table>\n",
              "<p>9612 rows × 25 columns</p>\n",
              "</div>"
            ],
            "text/plain": [
              "      ANNUAL_RATE  HRLY_RATE  JOBCODE  ... PREVYR_3 PREVYR_4 PREVYR_5\n",
              "0           33615         22    71850  ...        0        0        0\n",
              "1           70675         40    59806  ...        3        2        3\n",
              "2           34320         23    60311  ...        3        2        3\n",
              "3          103199         59    16233  ...        0        0        0\n",
              "4          141801         71    64415  ...        2        2        2\n",
              "...           ...        ...      ...  ...      ...      ...      ...\n",
              "9607        34636         23    58258  ...        0        0        0\n",
              "9608        34962         27    58258  ...        0        0        0\n",
              "9609        39286         27    36545  ...        0        0        0\n",
              "9610        39145         27    44203  ...        0        0        0\n",
              "9611        90726         50    89546  ...        0        0        0\n",
              "\n",
              "[9612 rows x 25 columns]"
            ]
          },
          "metadata": {
            "tags": []
          },
          "execution_count": 2
        }
      ]
    },
    {
      "cell_type": "markdown",
      "metadata": {
        "id": "0KYIQQ2zsFC6",
        "colab_type": "text"
      },
      "source": [
        "# Replace all \" \" with a random ethnicity in \"ETHNICITY\""
      ]
    },
    {
      "cell_type": "code",
      "metadata": {
        "id": "gHOKB1DYsGSG",
        "colab_type": "code",
        "colab": {
          "base_uri": "https://localhost:8080/",
          "height": 51
        },
        "outputId": "3811435f-4ce8-4e6b-d0a7-6c60a5ddb7cd"
      },
      "source": [
        "pd.unique(data['ETHNICITY'])"
      ],
      "execution_count": 3,
      "outputs": [
        {
          "output_type": "execute_result",
          "data": {
            "text/plain": [
              "array(['BLACK', 'ASIAN', 'WHITE', 'HISPA', 'PACIF', 'TWO', 'AMIND', ' '],\n",
              "      dtype=object)"
            ]
          },
          "metadata": {
            "tags": []
          },
          "execution_count": 3
        }
      ]
    },
    {
      "cell_type": "code",
      "metadata": {
        "id": "Jr068SMGuhTc",
        "colab_type": "code",
        "colab": {
          "base_uri": "https://localhost:8080/",
          "height": 34
        },
        "outputId": "fe748515-cbeb-453c-e89a-ab297ea10b21"
      },
      "source": [
        "import random\n",
        "random_ethnicity = random.choice(data[data['ETHNICITY'] != \" \"]['ETHNICITY'])\n",
        "random_ethnicity"
      ],
      "execution_count": 4,
      "outputs": [
        {
          "output_type": "execute_result",
          "data": {
            "text/plain": [
              "'WHITE'"
            ]
          },
          "metadata": {
            "tags": []
          },
          "execution_count": 4
        }
      ]
    },
    {
      "cell_type": "code",
      "metadata": {
        "id": "L0o225XPujYj",
        "colab_type": "code",
        "colab": {
          "base_uri": "https://localhost:8080/",
          "height": 34
        },
        "outputId": "4374500b-1e23-469a-ce27-d5a39fa7f8a6"
      },
      "source": [
        "index_list = data.index[data['ETHNICITY'] == \" \"].tolist()\n",
        "index_list"
      ],
      "execution_count": 5,
      "outputs": [
        {
          "output_type": "execute_result",
          "data": {
            "text/plain": [
              "[2934]"
            ]
          },
          "metadata": {
            "tags": []
          },
          "execution_count": 5
        }
      ]
    },
    {
      "cell_type": "code",
      "metadata": {
        "id": "vKYc1K5EutSp",
        "colab_type": "code",
        "colab": {}
      },
      "source": [
        "data['ETHNICITY'].replace(\" \", random_ethnicity, inplace = True)"
      ],
      "execution_count": 0,
      "outputs": []
    },
    {
      "cell_type": "code",
      "metadata": {
        "id": "DwrzP6QEuugF",
        "colab_type": "code",
        "colab": {
          "base_uri": "https://localhost:8080/",
          "height": 34
        },
        "outputId": "925df8a8-1183-4adc-e373-c81346b4f98a"
      },
      "source": [
        "data['ETHNICITY'][index_list[0]]"
      ],
      "execution_count": 7,
      "outputs": [
        {
          "output_type": "execute_result",
          "data": {
            "text/plain": [
              "'WHITE'"
            ]
          },
          "metadata": {
            "tags": []
          },
          "execution_count": 7
        }
      ]
    },
    {
      "cell_type": "code",
      "metadata": {
        "id": "ZTu5dpP-u0ii",
        "colab_type": "code",
        "colab": {
          "base_uri": "https://localhost:8080/",
          "height": 51
        },
        "outputId": "6f5a4a65-67a5-47b6-cd81-2d220963c661"
      },
      "source": [
        "pd.unique(data['ETHNICITY'])"
      ],
      "execution_count": 8,
      "outputs": [
        {
          "output_type": "execute_result",
          "data": {
            "text/plain": [
              "array(['BLACK', 'ASIAN', 'WHITE', 'HISPA', 'PACIF', 'TWO', 'AMIND'],\n",
              "      dtype=object)"
            ]
          },
          "metadata": {
            "tags": []
          },
          "execution_count": 8
        }
      ]
    },
    {
      "cell_type": "code",
      "metadata": {
        "id": "U2e6v8iKu3kn",
        "colab_type": "code",
        "colab": {
          "base_uri": "https://localhost:8080/",
          "height": 102
        },
        "outputId": "41bcca72-e12f-42fa-84dc-8bc7143be7c1"
      },
      "source": [
        "data['ETHNICITY'].describe(include='all')"
      ],
      "execution_count": 9,
      "outputs": [
        {
          "output_type": "execute_result",
          "data": {
            "text/plain": [
              "count      9612\n",
              "unique        7\n",
              "top       WHITE\n",
              "freq       5821\n",
              "Name: ETHNICITY, dtype: object"
            ]
          },
          "metadata": {
            "tags": []
          },
          "execution_count": 9
        }
      ]
    },
    {
      "cell_type": "markdown",
      "metadata": {
        "id": "4M0IX-GovDT_",
        "colab_type": "text"
      },
      "source": [
        "# Replace all \" \" with \"Unknown\" in \"REFERRAL_SOURCE\""
      ]
    },
    {
      "cell_type": "code",
      "metadata": {
        "id": "CPfqu1eevEh3",
        "colab_type": "code",
        "colab": {
          "base_uri": "https://localhost:8080/",
          "height": 136
        },
        "outputId": "faed0cfb-6e4f-4552-a086-d749bf3eb9e2"
      },
      "source": [
        "pd.unique(data['REFERRAL_SOURCE'])"
      ],
      "execution_count": 10,
      "outputs": [
        {
          "output_type": "execute_result",
          "data": {
            "text/plain": [
              "array(['Client Referral', 'Executive Referral', 'Former Employee/Intern',\n",
              "       'Direct Sourcing', 'Inroads', 'Unknown', nan, 'Job Fair',\n",
              "       'Print Advertisement', 'Corporate Career Site', 'Agency',\n",
              "       'College Recommendation', 'Job Posting',\n",
              "       'Job Boards/Online Advertising', 'Open House',\n",
              "       'College Recruiting(UnderGrad)', 'E-Strat', 'Unsolicited',\n",
              "       'Staffing Agency', 'Other Source'], dtype=object)"
            ]
          },
          "metadata": {
            "tags": []
          },
          "execution_count": 10
        }
      ]
    },
    {
      "cell_type": "code",
      "metadata": {
        "id": "oT_CxfI6vVlW",
        "colab_type": "code",
        "colab": {}
      },
      "source": [
        "data['REFERRAL_SOURCE'].fillna('Unknown', inplace=True)"
      ],
      "execution_count": 0,
      "outputs": []
    },
    {
      "cell_type": "code",
      "metadata": {
        "id": "HvrmfyDJvWz-",
        "colab_type": "code",
        "colab": {
          "base_uri": "https://localhost:8080/",
          "height": 136
        },
        "outputId": "48dc5ac2-ab7f-4ece-b08c-fea8488063d1"
      },
      "source": [
        "pd.unique(data['REFERRAL_SOURCE'])"
      ],
      "execution_count": 12,
      "outputs": [
        {
          "output_type": "execute_result",
          "data": {
            "text/plain": [
              "array(['Client Referral', 'Executive Referral', 'Former Employee/Intern',\n",
              "       'Direct Sourcing', 'Inroads', 'Unknown', 'Job Fair',\n",
              "       'Print Advertisement', 'Corporate Career Site', 'Agency',\n",
              "       'College Recommendation', 'Job Posting',\n",
              "       'Job Boards/Online Advertising', 'Open House',\n",
              "       'College Recruiting(UnderGrad)', 'E-Strat', 'Unsolicited',\n",
              "       'Staffing Agency', 'Other Source'], dtype=object)"
            ]
          },
          "metadata": {
            "tags": []
          },
          "execution_count": 12
        }
      ]
    },
    {
      "cell_type": "code",
      "metadata": {
        "id": "uS_PB6WpveD4",
        "colab_type": "code",
        "colab": {
          "base_uri": "https://localhost:8080/",
          "height": 102
        },
        "outputId": "6321dc93-8fd1-49d6-aebe-6a4038b4209f"
      },
      "source": [
        "data['REFERRAL_SOURCE'].describe(include='all')"
      ],
      "execution_count": 13,
      "outputs": [
        {
          "output_type": "execute_result",
          "data": {
            "text/plain": [
              "count        9612\n",
              "unique         19\n",
              "top       Unknown\n",
              "freq          917\n",
              "Name: REFERRAL_SOURCE, dtype: object"
            ]
          },
          "metadata": {
            "tags": []
          },
          "execution_count": 13
        }
      ]
    },
    {
      "cell_type": "code",
      "metadata": {
        "id": "VGr51H35vgBh",
        "colab_type": "code",
        "colab": {
          "base_uri": "https://localhost:8080/",
          "height": 221
        },
        "outputId": "646fb569-7f3c-4397-d31a-84722698a1ec"
      },
      "source": [
        "data['REFERRAL_SOURCE']"
      ],
      "execution_count": 14,
      "outputs": [
        {
          "output_type": "execute_result",
          "data": {
            "text/plain": [
              "0              Client Referral\n",
              "1           Executive Referral\n",
              "2       Former Employee/Intern\n",
              "3              Direct Sourcing\n",
              "4                      Inroads\n",
              "                 ...          \n",
              "9607           Staffing Agency\n",
              "9608                   Unknown\n",
              "9609        Executive Referral\n",
              "9610                Open House\n",
              "9611               Job Posting\n",
              "Name: REFERRAL_SOURCE, Length: 9612, dtype: object"
            ]
          },
          "metadata": {
            "tags": []
          },
          "execution_count": 14
        }
      ]
    },
    {
      "cell_type": "markdown",
      "metadata": {
        "id": "nvaOOG_Yvx2c",
        "colab_type": "text"
      },
      "source": [
        "# Perform min-max scaling each numerical feature column to the range [0,1]"
      ]
    },
    {
      "cell_type": "code",
      "metadata": {
        "id": "q5wS3NpFvzDs",
        "colab_type": "code",
        "colab": {
          "base_uri": "https://localhost:8080/",
          "height": 238
        },
        "outputId": "b7b4a99a-ee35-455a-9690-707e36aa518a"
      },
      "source": [
        "from sklearn.preprocessing import MinMaxScaler\n",
        "\n",
        "mms = MinMaxScaler()\n",
        "num = ['ANNUAL_RATE', 'HRLY_RATE', 'JOB_SATISFACTION', 'AGE', 'PERFORMANCE_RATING', 'PREVYR_1', 'PREVYR_2', 'PREVYR_3', 'PREVYR_4', 'PREVYR_5']\n",
        "dataset_num = data[num].values\n",
        "mms.fit(dataset_num)\n",
        "dataset_num_norm = mms.transform(dataset_num)\n",
        "dataset_num_norm"
      ],
      "execution_count": 15,
      "outputs": [
        {
          "output_type": "execute_result",
          "data": {
            "text/plain": [
              "array([[0.01363624, 0.01346801, 0.75      , ..., 0.        , 0.        ,\n",
              "        0.        ],\n",
              "       [0.0436653 , 0.04377104, 0.5       , ..., 0.6       , 0.4       ,\n",
              "        0.6       ],\n",
              "       [0.01420749, 0.01515152, 1.        , ..., 0.6       , 0.4       ,\n",
              "        0.6       ],\n",
              "       ...,\n",
              "       [0.01823135, 0.02188552, 0.5       , ..., 0.        , 0.        ,\n",
              "        0.        ],\n",
              "       [0.0181171 , 0.02188552, 0.75      , ..., 0.        , 0.        ,\n",
              "        0.        ],\n",
              "       [0.05991226, 0.06060606, 0.        , ..., 0.        , 0.        ,\n",
              "        0.        ]])"
            ]
          },
          "metadata": {
            "tags": []
          },
          "execution_count": 15
        }
      ]
    },
    {
      "cell_type": "markdown",
      "metadata": {
        "id": "QgUAvi_nv4AG",
        "colab_type": "text"
      },
      "source": [
        "# Perform one-hot encoding on each categorical feature column"
      ]
    },
    {
      "cell_type": "code",
      "metadata": {
        "id": "N3xE8_U4v7iA",
        "colab_type": "code",
        "colab": {
          "base_uri": "https://localhost:8080/",
          "height": 136
        },
        "outputId": "f234c30f-9881-46ff-ec50-86914aefcec3"
      },
      "source": [
        "from sklearn.preprocessing import OneHotEncoder\n",
        "\n",
        "ohe = OneHotEncoder()\n",
        "cat = ['JOBCODE', 'ETHNICITY', 'SEX', 'MARITAL_STATUS', 'NUMBER_OF_TEAM_CHANGED', 'REFERRAL_SOURCE', 'HIRE_MONTH', 'REHIRE', 'IS_FIRST_JOB', 'TRAVELLED_REQUIRED', 'DISABLED_EMP', 'DISABLED_VET', 'EDUCATION_LEVEL', 'JOB_GROUP']\n",
        "dataset_cat = data[cat].values\n",
        "# format all fields as string\n",
        "dataset_cat = dataset_cat.astype(str)\n",
        "ohe.fit(dataset_cat)\n",
        "dataset_cat_enc = ohe.transform(dataset_cat).todense()\n",
        "dataset_cat_enc"
      ],
      "execution_count": 16,
      "outputs": [
        {
          "output_type": "execute_result",
          "data": {
            "text/plain": [
              "matrix([[0., 0., 0., ..., 0., 0., 0.],\n",
              "        [0., 0., 0., ..., 0., 0., 0.],\n",
              "        [0., 0., 0., ..., 0., 0., 0.],\n",
              "        ...,\n",
              "        [0., 0., 0., ..., 0., 0., 0.],\n",
              "        [0., 0., 0., ..., 0., 0., 0.],\n",
              "        [0., 0., 0., ..., 0., 0., 0.]])"
            ]
          },
          "metadata": {
            "tags": []
          },
          "execution_count": 16
        }
      ]
    },
    {
      "cell_type": "markdown",
      "metadata": {
        "id": "vAeECHCVweIU",
        "colab_type": "text"
      },
      "source": [
        "# Perform one-hot encoding on label column"
      ]
    },
    {
      "cell_type": "code",
      "metadata": {
        "id": "jX9wFJnKwkOs",
        "colab_type": "code",
        "colab": {
          "base_uri": "https://localhost:8080/",
          "height": 136
        },
        "outputId": "31c3c07d-dc28-4f01-8c1d-a9b8ba8fbbf1"
      },
      "source": [
        "from sklearn.preprocessing import LabelBinarizer\n",
        "\n",
        "lb = LabelBinarizer()\n",
        "dataset_label = data['STATUS'].values\n",
        "lb.fit(dataset_label)\n",
        "dataset_label_enc = lb.transform(dataset_label)\n",
        "dataset_label_enc"
      ],
      "execution_count": 17,
      "outputs": [
        {
          "output_type": "execute_result",
          "data": {
            "text/plain": [
              "array([[1],\n",
              "       [0],\n",
              "       [0],\n",
              "       ...,\n",
              "       [0],\n",
              "       [0],\n",
              "       [0]])"
            ]
          },
          "metadata": {
            "tags": []
          },
          "execution_count": 17
        }
      ]
    },
    {
      "cell_type": "markdown",
      "metadata": {
        "id": "5GNlB0Gcwv5d",
        "colab_type": "text"
      },
      "source": [
        "# Concatenate normalized numerical features and one-hot encoded categorical features into `X` and denote label by `y`"
      ]
    },
    {
      "cell_type": "code",
      "metadata": {
        "id": "nYfFUn06wxss",
        "colab_type": "code",
        "colab": {
          "base_uri": "https://localhost:8080/",
          "height": 34
        },
        "outputId": "16463b26-f3b2-45cd-ef76-1e70e2d41ecf"
      },
      "source": [
        "import numpy as np\n",
        "\n",
        "X = np.hstack([dataset_num_norm, dataset_cat_enc])\n",
        "y = dataset_label_enc\n",
        "X.shape, y.shape"
      ],
      "execution_count": 18,
      "outputs": [
        {
          "output_type": "execute_result",
          "data": {
            "text/plain": [
              "((9612, 1457), (9612, 1))"
            ]
          },
          "metadata": {
            "tags": []
          },
          "execution_count": 18
        }
      ]
    },
    {
      "cell_type": "markdown",
      "metadata": {
        "id": "u4AudjDkw59-",
        "colab_type": "text"
      },
      "source": [
        "# Use 30% test 70% training data"
      ]
    },
    {
      "cell_type": "code",
      "metadata": {
        "id": "7Aq-mDVYw7yW",
        "colab_type": "code",
        "colab": {
          "base_uri": "https://localhost:8080/",
          "height": 34
        },
        "outputId": "bd44919e-777e-4768-8980-58deb493ff01"
      },
      "source": [
        "from sklearn.model_selection import train_test_split\n",
        "\n",
        "# split into train and test sets\n",
        "X_train, X_test, y_train, y_test = train_test_split(X, y, test_size=0.3, random_state=1)\n",
        "X_train.shape, X_test.shape, y_train.shape, y_test.shape"
      ],
      "execution_count": 19,
      "outputs": [
        {
          "output_type": "execute_result",
          "data": {
            "text/plain": [
              "((6728, 1457), (2884, 1457), (6728, 1), (2884, 1))"
            ]
          },
          "metadata": {
            "tags": []
          },
          "execution_count": 19
        }
      ]
    },
    {
      "cell_type": "markdown",
      "metadata": {
        "id": "pC4ExBQ4zkIY",
        "colab_type": "text"
      },
      "source": [
        "# Train a random forest"
      ]
    },
    {
      "cell_type": "code",
      "metadata": {
        "id": "IkfwarRHzthW",
        "colab_type": "code",
        "colab": {
          "base_uri": "https://localhost:8080/",
          "height": 207
        },
        "outputId": "9f24c5ec-60b2-4db3-e1b2-e0b4e20c005a"
      },
      "source": [
        "from sklearn.ensemble import RandomForestClassifier\n",
        "\n",
        "rfc = RandomForestClassifier()\n",
        "rfc.fit(X_train, y_train)"
      ],
      "execution_count": 20,
      "outputs": [
        {
          "output_type": "stream",
          "text": [
            "/usr/local/lib/python3.6/dist-packages/ipykernel_launcher.py:4: DataConversionWarning: A column-vector y was passed when a 1d array was expected. Please change the shape of y to (n_samples,), for example using ravel().\n",
            "  after removing the cwd from sys.path.\n"
          ],
          "name": "stderr"
        },
        {
          "output_type": "execute_result",
          "data": {
            "text/plain": [
              "RandomForestClassifier(bootstrap=True, ccp_alpha=0.0, class_weight=None,\n",
              "                       criterion='gini', max_depth=None, max_features='auto',\n",
              "                       max_leaf_nodes=None, max_samples=None,\n",
              "                       min_impurity_decrease=0.0, min_impurity_split=None,\n",
              "                       min_samples_leaf=1, min_samples_split=2,\n",
              "                       min_weight_fraction_leaf=0.0, n_estimators=100,\n",
              "                       n_jobs=None, oob_score=False, random_state=None,\n",
              "                       verbose=0, warm_start=False)"
            ]
          },
          "metadata": {
            "tags": []
          },
          "execution_count": 20
        }
      ]
    },
    {
      "cell_type": "markdown",
      "metadata": {
        "id": "gbFKRlpJ1veK",
        "colab_type": "text"
      },
      "source": [
        "# Evaluate the accuracy of the prediction"
      ]
    },
    {
      "cell_type": "code",
      "metadata": {
        "id": "kem-Q2-U1WHX",
        "colab_type": "code",
        "colab": {
          "base_uri": "https://localhost:8080/",
          "height": 34
        },
        "outputId": "1cefe207-4e61-4cd2-f336-25c35b6b7b7a"
      },
      "source": [
        "# model accuracy on test data\n",
        "rfc.score(X_test, y_test)"
      ],
      "execution_count": 21,
      "outputs": [
        {
          "output_type": "execute_result",
          "data": {
            "text/plain": [
              "0.7555478502080444"
            ]
          },
          "metadata": {
            "tags": []
          },
          "execution_count": 21
        }
      ]
    },
    {
      "cell_type": "code",
      "metadata": {
        "id": "k0ckUn9P1yHI",
        "colab_type": "code",
        "colab": {
          "base_uri": "https://localhost:8080/",
          "height": 34
        },
        "outputId": "f3ddf551-edac-44d9-cfd9-0a8790506783"
      },
      "source": [
        "# prediction from random forest model\n",
        "y_pred = rfc.predict(X_test)\n",
        "y_pred"
      ],
      "execution_count": 22,
      "outputs": [
        {
          "output_type": "execute_result",
          "data": {
            "text/plain": [
              "array([0, 1, 1, ..., 0, 1, 1])"
            ]
          },
          "metadata": {
            "tags": []
          },
          "execution_count": 22
        }
      ]
    },
    {
      "cell_type": "code",
      "metadata": {
        "id": "D2q9Hpgn18zj",
        "colab_type": "code",
        "colab": {
          "base_uri": "https://localhost:8080/",
          "height": 51
        },
        "outputId": "83f01f4a-8058-4783-8c51-89b9ef17fe62"
      },
      "source": [
        "# confusion matrix\n",
        "from sklearn.metrics import confusion_matrix\n",
        "cm = confusion_matrix(y_test, y_pred)\n",
        "cm"
      ],
      "execution_count": 23,
      "outputs": [
        {
          "output_type": "execute_result",
          "data": {
            "text/plain": [
              "array([[1389,  235],\n",
              "       [ 470,  790]])"
            ]
          },
          "metadata": {
            "tags": []
          },
          "execution_count": 23
        }
      ]
    },
    {
      "cell_type": "code",
      "metadata": {
        "id": "CMQZ_ctK2OqJ",
        "colab_type": "code",
        "colab": {
          "base_uri": "https://localhost:8080/",
          "height": 494
        },
        "outputId": "3826ca23-0487-4524-be1d-84f1cdd07fda"
      },
      "source": [
        "# plot the confusion matrix\n",
        "%matplotlib inline\n",
        "import matplotlib.pyplot as plt\n",
        "import seaborn as sn\n",
        "plt.figure(figsize=(10,7))\n",
        "sn.heatmap(cm, annot=True)\n",
        "plt.xlabel('y_pred')\n",
        "plt.ylabel('y_test')"
      ],
      "execution_count": 24,
      "outputs": [
        {
          "output_type": "stream",
          "text": [
            "/usr/local/lib/python3.6/dist-packages/statsmodels/tools/_testing.py:19: FutureWarning: pandas.util.testing is deprecated. Use the functions in the public API at pandas.testing instead.\n",
            "  import pandas.util.testing as tm\n"
          ],
          "name": "stderr"
        },
        {
          "output_type": "execute_result",
          "data": {
            "text/plain": [
              "Text(69.0, 0.5, 'y_test')"
            ]
          },
          "metadata": {
            "tags": []
          },
          "execution_count": 24
        },
        {
          "output_type": "display_data",
          "data": {
            "image/png": "[encoded data removed]",
            "text/plain": [
              "<Figure size 720x504 with 2 Axes>"
            ]
          },
          "metadata": {
            "tags": [],
            "needs_background": "light"
          }
        }
      ]
    }
  ]
}