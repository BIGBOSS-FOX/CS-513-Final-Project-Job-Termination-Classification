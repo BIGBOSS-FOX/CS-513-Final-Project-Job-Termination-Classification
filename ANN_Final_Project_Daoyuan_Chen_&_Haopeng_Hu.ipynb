{
  "nbformat": 4,
  "nbformat_minor": 0,
  "metadata": {
    "colab": {
      "name": "ANN Final Project Daoyuan Chen & Haopeng Hu.ipynb",
      "provenance": [],
      "authorship_tag": "ABX9TyPjlO2t3ynb6cvDWasabq57",
      "include_colab_link": true
    },
    "kernelspec": {
      "name": "python3",
      "display_name": "Python 3"
    }
  },
  "cells": [
    {
      "cell_type": "markdown",
      "metadata": {
        "id": "view-in-github",
        "colab_type": "text"
      },
      "source": [
        "<a href=\"https://colab.research.google.com/github/BIGBOSS-FOX/CS-513-Final-Project-Job-Termination-Classification/blob/master/ANN_Final_Project_Daoyuan_Chen_%26_Haopeng_Hu.ipynb\" target=\"_parent\"><img src=\"https://colab.research.google.com/assets/colab-badge.svg\" alt=\"Open In Colab\"/></a>"
      ]
    },
    {
      "cell_type": "markdown",
      "metadata": {
        "id": "Ke0oOeJXdS74",
        "colab_type": "text"
      },
      "source": [
        "# Load the \"attrition_data.csv\"\n",
        "\n"
      ]
    },
    {
      "cell_type": "code",
      "metadata": {
        "id": "J9rxU0aZXGZv",
        "colab_type": "code",
        "colab": {
          "base_uri": "https://localhost:8080/",
          "height": 609
        },
        "outputId": "3b83162a-7a0d-4825-8b18-8486a289f6f3"
      },
      "source": [
        "import pandas as pd\n",
        "\n",
        "data = pd.read_csv(\"attrition_data.csv\")\n",
        "\n",
        "data"
      ],
      "execution_count": 1,
      "outputs": [
        {
          "output_type": "execute_result",
          "data": {
            "text/html": [
              "<div>\n",
              "<style scoped>\n",
              "    .dataframe tbody tr th:only-of-type {\n",
              "        vertical-align: middle;\n",
              "    }\n",
              "\n",
              "    .dataframe tbody tr th {\n",
              "        vertical-align: top;\n",
              "    }\n",
              "\n",
              "    .dataframe thead th {\n",
              "        text-align: right;\n",
              "    }\n",
              "</style>\n",
              "<table border=\"1\" class=\"dataframe\">\n",
              "  <thead>\n",
              "    <tr style=\"text-align: right;\">\n",
              "      <th></th>\n",
              "      <th>EMP_ID</th>\n",
              "      <th>ANNUAL_RATE</th>\n",
              "      <th>HRLY_RATE</th>\n",
              "      <th>JOBCODE</th>\n",
              "      <th>ETHNICITY</th>\n",
              "      <th>SEX</th>\n",
              "      <th>MARITAL_STATUS</th>\n",
              "      <th>JOB_SATISFACTION</th>\n",
              "      <th>AGE</th>\n",
              "      <th>NUMBER_OF_TEAM_CHANGED</th>\n",
              "      <th>REFERRAL_SOURCE</th>\n",
              "      <th>HIRE_MONTH</th>\n",
              "      <th>REHIRE</th>\n",
              "      <th>TERMINATION_YEAR</th>\n",
              "      <th>IS_FIRST_JOB</th>\n",
              "      <th>TRAVELLED_REQUIRED</th>\n",
              "      <th>PERFORMANCE_RATING</th>\n",
              "      <th>DISABLED_EMP</th>\n",
              "      <th>DISABLED_VET</th>\n",
              "      <th>EDUCATION_LEVEL</th>\n",
              "      <th>STATUS</th>\n",
              "      <th>JOB_GROUP</th>\n",
              "      <th>PREVYR_1</th>\n",
              "      <th>PREVYR_2</th>\n",
              "      <th>PREVYR_3</th>\n",
              "      <th>PREVYR_4</th>\n",
              "      <th>PREVYR_5</th>\n",
              "    </tr>\n",
              "  </thead>\n",
              "  <tbody>\n",
              "    <tr>\n",
              "      <th>0</th>\n",
              "      <td>3285941608</td>\n",
              "      <td>33615</td>\n",
              "      <td>22</td>\n",
              "      <td>71850</td>\n",
              "      <td>BLACK</td>\n",
              "      <td>F</td>\n",
              "      <td>Divorced</td>\n",
              "      <td>4</td>\n",
              "      <td>35</td>\n",
              "      <td>3+</td>\n",
              "      <td>Client Referral</td>\n",
              "      <td>June</td>\n",
              "      <td>False</td>\n",
              "      <td>2008.0</td>\n",
              "      <td>N</td>\n",
              "      <td>N</td>\n",
              "      <td>4</td>\n",
              "      <td>N</td>\n",
              "      <td>N</td>\n",
              "      <td>LEVEL 2</td>\n",
              "      <td>T</td>\n",
              "      <td>Plant &amp; Facilities Maintenance</td>\n",
              "      <td>0</td>\n",
              "      <td>0</td>\n",
              "      <td>0</td>\n",
              "      <td>0</td>\n",
              "      <td>0</td>\n",
              "    </tr>\n",
              "    <tr>\n",
              "      <th>1</th>\n",
              "      <td>3687079832</td>\n",
              "      <td>70675</td>\n",
              "      <td>40</td>\n",
              "      <td>59806</td>\n",
              "      <td>ASIAN</td>\n",
              "      <td>M</td>\n",
              "      <td>Single</td>\n",
              "      <td>3</td>\n",
              "      <td>18</td>\n",
              "      <td>3+</td>\n",
              "      <td>Executive Referral</td>\n",
              "      <td>June</td>\n",
              "      <td>False</td>\n",
              "      <td>NaN</td>\n",
              "      <td>Y</td>\n",
              "      <td>N</td>\n",
              "      <td>3</td>\n",
              "      <td>N</td>\n",
              "      <td>N</td>\n",
              "      <td>LEVEL 1</td>\n",
              "      <td>A</td>\n",
              "      <td>Customer Care</td>\n",
              "      <td>3</td>\n",
              "      <td>3</td>\n",
              "      <td>3</td>\n",
              "      <td>2</td>\n",
              "      <td>3</td>\n",
              "    </tr>\n",
              "    <tr>\n",
              "      <th>2</th>\n",
              "      <td>7209970080</td>\n",
              "      <td>34320</td>\n",
              "      <td>23</td>\n",
              "      <td>60311</td>\n",
              "      <td>WHITE</td>\n",
              "      <td>F</td>\n",
              "      <td>Single</td>\n",
              "      <td>5</td>\n",
              "      <td>18</td>\n",
              "      <td>2</td>\n",
              "      <td>Former Employee/Intern</td>\n",
              "      <td>February</td>\n",
              "      <td>False</td>\n",
              "      <td>NaN</td>\n",
              "      <td>Y</td>\n",
              "      <td>N</td>\n",
              "      <td>3</td>\n",
              "      <td>N</td>\n",
              "      <td>N</td>\n",
              "      <td>LEVEL 1</td>\n",
              "      <td>A</td>\n",
              "      <td>Customer Care</td>\n",
              "      <td>3</td>\n",
              "      <td>3</td>\n",
              "      <td>3</td>\n",
              "      <td>2</td>\n",
              "      <td>3</td>\n",
              "    </tr>\n",
              "    <tr>\n",
              "      <th>3</th>\n",
              "      <td>9084013977</td>\n",
              "      <td>103199</td>\n",
              "      <td>59</td>\n",
              "      <td>16233</td>\n",
              "      <td>ASIAN</td>\n",
              "      <td>F</td>\n",
              "      <td>Single</td>\n",
              "      <td>2</td>\n",
              "      <td>50</td>\n",
              "      <td>0</td>\n",
              "      <td>Direct Sourcing</td>\n",
              "      <td>October</td>\n",
              "      <td>True</td>\n",
              "      <td>2005.0</td>\n",
              "      <td>N</td>\n",
              "      <td>Y</td>\n",
              "      <td>2</td>\n",
              "      <td>N</td>\n",
              "      <td>N</td>\n",
              "      <td>LEVEL 1</td>\n",
              "      <td>T</td>\n",
              "      <td>Finance</td>\n",
              "      <td>0</td>\n",
              "      <td>0</td>\n",
              "      <td>0</td>\n",
              "      <td>0</td>\n",
              "      <td>0</td>\n",
              "    </tr>\n",
              "    <tr>\n",
              "      <th>4</th>\n",
              "      <td>4566148978</td>\n",
              "      <td>141801</td>\n",
              "      <td>71</td>\n",
              "      <td>64415</td>\n",
              "      <td>ASIAN</td>\n",
              "      <td>F</td>\n",
              "      <td>Single</td>\n",
              "      <td>4</td>\n",
              "      <td>34</td>\n",
              "      <td>3</td>\n",
              "      <td>Inroads</td>\n",
              "      <td>May</td>\n",
              "      <td>False</td>\n",
              "      <td>NaN</td>\n",
              "      <td>N</td>\n",
              "      <td>N</td>\n",
              "      <td>4</td>\n",
              "      <td>N</td>\n",
              "      <td>N</td>\n",
              "      <td>LEVEL 1</td>\n",
              "      <td>A</td>\n",
              "      <td>Marketing - Direct</td>\n",
              "      <td>2</td>\n",
              "      <td>2</td>\n",
              "      <td>2</td>\n",
              "      <td>2</td>\n",
              "      <td>2</td>\n",
              "    </tr>\n",
              "    <tr>\n",
              "      <th>...</th>\n",
              "      <td>...</td>\n",
              "      <td>...</td>\n",
              "      <td>...</td>\n",
              "      <td>...</td>\n",
              "      <td>...</td>\n",
              "      <td>...</td>\n",
              "      <td>...</td>\n",
              "      <td>...</td>\n",
              "      <td>...</td>\n",
              "      <td>...</td>\n",
              "      <td>...</td>\n",
              "      <td>...</td>\n",
              "      <td>...</td>\n",
              "      <td>...</td>\n",
              "      <td>...</td>\n",
              "      <td>...</td>\n",
              "      <td>...</td>\n",
              "      <td>...</td>\n",
              "      <td>...</td>\n",
              "      <td>...</td>\n",
              "      <td>...</td>\n",
              "      <td>...</td>\n",
              "      <td>...</td>\n",
              "      <td>...</td>\n",
              "      <td>...</td>\n",
              "      <td>...</td>\n",
              "      <td>...</td>\n",
              "    </tr>\n",
              "    <tr>\n",
              "      <th>9607</th>\n",
              "      <td>8595959073</td>\n",
              "      <td>34636</td>\n",
              "      <td>23</td>\n",
              "      <td>58258</td>\n",
              "      <td>ASIAN</td>\n",
              "      <td>F</td>\n",
              "      <td>Single</td>\n",
              "      <td>1</td>\n",
              "      <td>43</td>\n",
              "      <td>0</td>\n",
              "      <td>Staffing Agency</td>\n",
              "      <td>July</td>\n",
              "      <td>False</td>\n",
              "      <td>NaN</td>\n",
              "      <td>N</td>\n",
              "      <td>N</td>\n",
              "      <td>1</td>\n",
              "      <td>N</td>\n",
              "      <td>Y</td>\n",
              "      <td>LEVEL 1</td>\n",
              "      <td>A</td>\n",
              "      <td>Physical Flows</td>\n",
              "      <td>0</td>\n",
              "      <td>0</td>\n",
              "      <td>0</td>\n",
              "      <td>0</td>\n",
              "      <td>0</td>\n",
              "    </tr>\n",
              "    <tr>\n",
              "      <th>9608</th>\n",
              "      <td>4606362550</td>\n",
              "      <td>34962</td>\n",
              "      <td>27</td>\n",
              "      <td>58258</td>\n",
              "      <td>WHITE</td>\n",
              "      <td>F</td>\n",
              "      <td>Single</td>\n",
              "      <td>5</td>\n",
              "      <td>28</td>\n",
              "      <td>2</td>\n",
              "      <td>NaN</td>\n",
              "      <td>November</td>\n",
              "      <td>False</td>\n",
              "      <td>NaN</td>\n",
              "      <td>N</td>\n",
              "      <td>N</td>\n",
              "      <td>1</td>\n",
              "      <td>N</td>\n",
              "      <td>N</td>\n",
              "      <td>LEVEL 3</td>\n",
              "      <td>A</td>\n",
              "      <td>Physical Flows</td>\n",
              "      <td>0</td>\n",
              "      <td>0</td>\n",
              "      <td>0</td>\n",
              "      <td>0</td>\n",
              "      <td>0</td>\n",
              "    </tr>\n",
              "    <tr>\n",
              "      <th>9609</th>\n",
              "      <td>5856364670</td>\n",
              "      <td>39286</td>\n",
              "      <td>27</td>\n",
              "      <td>36545</td>\n",
              "      <td>WHITE</td>\n",
              "      <td>F</td>\n",
              "      <td>Single</td>\n",
              "      <td>3</td>\n",
              "      <td>31</td>\n",
              "      <td>2</td>\n",
              "      <td>Executive Referral</td>\n",
              "      <td>February</td>\n",
              "      <td>False</td>\n",
              "      <td>NaN</td>\n",
              "      <td>N</td>\n",
              "      <td>N</td>\n",
              "      <td>1</td>\n",
              "      <td>N</td>\n",
              "      <td>N</td>\n",
              "      <td>LEVEL 3</td>\n",
              "      <td>A</td>\n",
              "      <td>Production &amp; Operations</td>\n",
              "      <td>0</td>\n",
              "      <td>0</td>\n",
              "      <td>0</td>\n",
              "      <td>0</td>\n",
              "      <td>0</td>\n",
              "    </tr>\n",
              "    <tr>\n",
              "      <th>9610</th>\n",
              "      <td>5388746486</td>\n",
              "      <td>39145</td>\n",
              "      <td>27</td>\n",
              "      <td>44203</td>\n",
              "      <td>WHITE</td>\n",
              "      <td>M</td>\n",
              "      <td>Married</td>\n",
              "      <td>4</td>\n",
              "      <td>32</td>\n",
              "      <td>3+</td>\n",
              "      <td>Open House</td>\n",
              "      <td>February</td>\n",
              "      <td>False</td>\n",
              "      <td>NaN</td>\n",
              "      <td>N</td>\n",
              "      <td>N</td>\n",
              "      <td>4</td>\n",
              "      <td>N</td>\n",
              "      <td>N</td>\n",
              "      <td>LEVEL 2</td>\n",
              "      <td>A</td>\n",
              "      <td>Production &amp; Operations</td>\n",
              "      <td>0</td>\n",
              "      <td>0</td>\n",
              "      <td>0</td>\n",
              "      <td>0</td>\n",
              "      <td>0</td>\n",
              "    </tr>\n",
              "    <tr>\n",
              "      <th>9611</th>\n",
              "      <td>6401616257</td>\n",
              "      <td>90726</td>\n",
              "      <td>50</td>\n",
              "      <td>89546</td>\n",
              "      <td>WHITE</td>\n",
              "      <td>F</td>\n",
              "      <td>Single</td>\n",
              "      <td>1</td>\n",
              "      <td>46</td>\n",
              "      <td>0</td>\n",
              "      <td>Job Posting</td>\n",
              "      <td>November</td>\n",
              "      <td>False</td>\n",
              "      <td>NaN</td>\n",
              "      <td>N</td>\n",
              "      <td>N</td>\n",
              "      <td>1</td>\n",
              "      <td>N</td>\n",
              "      <td>N</td>\n",
              "      <td>LEVEL 4</td>\n",
              "      <td>A</td>\n",
              "      <td>Physical Flows</td>\n",
              "      <td>0</td>\n",
              "      <td>0</td>\n",
              "      <td>0</td>\n",
              "      <td>0</td>\n",
              "      <td>0</td>\n",
              "    </tr>\n",
              "  </tbody>\n",
              "</table>\n",
              "<p>9612 rows × 27 columns</p>\n",
              "</div>"
            ],
            "text/plain": [
              "          EMP_ID  ANNUAL_RATE  HRLY_RATE  ...  PREVYR_3 PREVYR_4 PREVYR_5\n",
              "0     3285941608        33615         22  ...         0        0        0\n",
              "1     3687079832        70675         40  ...         3        2        3\n",
              "2     7209970080        34320         23  ...         3        2        3\n",
              "3     9084013977       103199         59  ...         0        0        0\n",
              "4     4566148978       141801         71  ...         2        2        2\n",
              "...          ...          ...        ...  ...       ...      ...      ...\n",
              "9607  8595959073        34636         23  ...         0        0        0\n",
              "9608  4606362550        34962         27  ...         0        0        0\n",
              "9609  5856364670        39286         27  ...         0        0        0\n",
              "9610  5388746486        39145         27  ...         0        0        0\n",
              "9611  6401616257        90726         50  ...         0        0        0\n",
              "\n",
              "[9612 rows x 27 columns]"
            ]
          },
          "metadata": {
            "tags": []
          },
          "execution_count": 1
        }
      ]
    },
    {
      "cell_type": "markdown",
      "metadata": {
        "id": "HFTk4blzdqBv",
        "colab_type": "text"
      },
      "source": [
        "# Summary data"
      ]
    },
    {
      "cell_type": "code",
      "metadata": {
        "id": "3938S5uJ0FVx",
        "colab_type": "code",
        "colab": {
          "base_uri": "https://localhost:8080/",
          "height": 444
        },
        "outputId": "047138f3-641e-4a26-bc37-8af50270ce53"
      },
      "source": [
        "data.describe(include='all')"
      ],
      "execution_count": 2,
      "outputs": [
        {
          "output_type": "execute_result",
          "data": {
            "text/html": [
              "<div>\n",
              "<style scoped>\n",
              "    .dataframe tbody tr th:only-of-type {\n",
              "        vertical-align: middle;\n",
              "    }\n",
              "\n",
              "    .dataframe tbody tr th {\n",
              "        vertical-align: top;\n",
              "    }\n",
              "\n",
              "    .dataframe thead th {\n",
              "        text-align: right;\n",
              "    }\n",
              "</style>\n",
              "<table border=\"1\" class=\"dataframe\">\n",
              "  <thead>\n",
              "    <tr style=\"text-align: right;\">\n",
              "      <th></th>\n",
              "      <th>EMP_ID</th>\n",
              "      <th>ANNUAL_RATE</th>\n",
              "      <th>HRLY_RATE</th>\n",
              "      <th>JOBCODE</th>\n",
              "      <th>ETHNICITY</th>\n",
              "      <th>SEX</th>\n",
              "      <th>MARITAL_STATUS</th>\n",
              "      <th>JOB_SATISFACTION</th>\n",
              "      <th>AGE</th>\n",
              "      <th>NUMBER_OF_TEAM_CHANGED</th>\n",
              "      <th>REFERRAL_SOURCE</th>\n",
              "      <th>HIRE_MONTH</th>\n",
              "      <th>REHIRE</th>\n",
              "      <th>TERMINATION_YEAR</th>\n",
              "      <th>IS_FIRST_JOB</th>\n",
              "      <th>TRAVELLED_REQUIRED</th>\n",
              "      <th>PERFORMANCE_RATING</th>\n",
              "      <th>DISABLED_EMP</th>\n",
              "      <th>DISABLED_VET</th>\n",
              "      <th>EDUCATION_LEVEL</th>\n",
              "      <th>STATUS</th>\n",
              "      <th>JOB_GROUP</th>\n",
              "      <th>PREVYR_1</th>\n",
              "      <th>PREVYR_2</th>\n",
              "      <th>PREVYR_3</th>\n",
              "      <th>PREVYR_4</th>\n",
              "      <th>PREVYR_5</th>\n",
              "    </tr>\n",
              "  </thead>\n",
              "  <tbody>\n",
              "    <tr>\n",
              "      <th>count</th>\n",
              "      <td>9.612000e+03</td>\n",
              "      <td>9.612000e+03</td>\n",
              "      <td>9612.000000</td>\n",
              "      <td>9612.000000</td>\n",
              "      <td>9612</td>\n",
              "      <td>9612</td>\n",
              "      <td>9612</td>\n",
              "      <td>9612.000000</td>\n",
              "      <td>9612.000000</td>\n",
              "      <td>9612</td>\n",
              "      <td>9167</td>\n",
              "      <td>9612</td>\n",
              "      <td>9612</td>\n",
              "      <td>4218.000000</td>\n",
              "      <td>9612</td>\n",
              "      <td>9612</td>\n",
              "      <td>9612.000000</td>\n",
              "      <td>9612</td>\n",
              "      <td>9612</td>\n",
              "      <td>9612</td>\n",
              "      <td>9612</td>\n",
              "      <td>9612</td>\n",
              "      <td>9612.000000</td>\n",
              "      <td>9612.000000</td>\n",
              "      <td>9612.000000</td>\n",
              "      <td>9612.000000</td>\n",
              "      <td>9612.000000</td>\n",
              "    </tr>\n",
              "    <tr>\n",
              "      <th>unique</th>\n",
              "      <td>NaN</td>\n",
              "      <td>NaN</td>\n",
              "      <td>NaN</td>\n",
              "      <td>NaN</td>\n",
              "      <td>8</td>\n",
              "      <td>2</td>\n",
              "      <td>3</td>\n",
              "      <td>NaN</td>\n",
              "      <td>NaN</td>\n",
              "      <td>5</td>\n",
              "      <td>19</td>\n",
              "      <td>12</td>\n",
              "      <td>2</td>\n",
              "      <td>NaN</td>\n",
              "      <td>2</td>\n",
              "      <td>2</td>\n",
              "      <td>NaN</td>\n",
              "      <td>2</td>\n",
              "      <td>2</td>\n",
              "      <td>5</td>\n",
              "      <td>2</td>\n",
              "      <td>66</td>\n",
              "      <td>NaN</td>\n",
              "      <td>NaN</td>\n",
              "      <td>NaN</td>\n",
              "      <td>NaN</td>\n",
              "      <td>NaN</td>\n",
              "    </tr>\n",
              "    <tr>\n",
              "      <th>top</th>\n",
              "      <td>NaN</td>\n",
              "      <td>NaN</td>\n",
              "      <td>NaN</td>\n",
              "      <td>NaN</td>\n",
              "      <td>WHITE</td>\n",
              "      <td>F</td>\n",
              "      <td>Married</td>\n",
              "      <td>NaN</td>\n",
              "      <td>NaN</td>\n",
              "      <td>0</td>\n",
              "      <td>Job Boards/Online Advertising</td>\n",
              "      <td>May</td>\n",
              "      <td>False</td>\n",
              "      <td>NaN</td>\n",
              "      <td>N</td>\n",
              "      <td>N</td>\n",
              "      <td>NaN</td>\n",
              "      <td>N</td>\n",
              "      <td>N</td>\n",
              "      <td>LEVEL 1</td>\n",
              "      <td>A</td>\n",
              "      <td>Production &amp; Operations</td>\n",
              "      <td>NaN</td>\n",
              "      <td>NaN</td>\n",
              "      <td>NaN</td>\n",
              "      <td>NaN</td>\n",
              "      <td>NaN</td>\n",
              "    </tr>\n",
              "    <tr>\n",
              "      <th>freq</th>\n",
              "      <td>NaN</td>\n",
              "      <td>NaN</td>\n",
              "      <td>NaN</td>\n",
              "      <td>NaN</td>\n",
              "      <td>5820</td>\n",
              "      <td>5723</td>\n",
              "      <td>4027</td>\n",
              "      <td>NaN</td>\n",
              "      <td>NaN</td>\n",
              "      <td>2423</td>\n",
              "      <td>513</td>\n",
              "      <td>846</td>\n",
              "      <td>8726</td>\n",
              "      <td>NaN</td>\n",
              "      <td>9018</td>\n",
              "      <td>7781</td>\n",
              "      <td>NaN</td>\n",
              "      <td>8665</td>\n",
              "      <td>8682</td>\n",
              "      <td>3398</td>\n",
              "      <td>5394</td>\n",
              "      <td>1714</td>\n",
              "      <td>NaN</td>\n",
              "      <td>NaN</td>\n",
              "      <td>NaN</td>\n",
              "      <td>NaN</td>\n",
              "      <td>NaN</td>\n",
              "    </tr>\n",
              "    <tr>\n",
              "      <th>mean</th>\n",
              "      <td>5.168687e+09</td>\n",
              "      <td>8.938563e+04</td>\n",
              "      <td>49.953808</td>\n",
              "      <td>51485.811174</td>\n",
              "      <td>NaN</td>\n",
              "      <td>NaN</td>\n",
              "      <td>NaN</td>\n",
              "      <td>2.757491</td>\n",
              "      <td>40.151581</td>\n",
              "      <td>NaN</td>\n",
              "      <td>NaN</td>\n",
              "      <td>NaN</td>\n",
              "      <td>NaN</td>\n",
              "      <td>2011.013514</td>\n",
              "      <td>NaN</td>\n",
              "      <td>NaN</td>\n",
              "      <td>3.002081</td>\n",
              "      <td>NaN</td>\n",
              "      <td>NaN</td>\n",
              "      <td>NaN</td>\n",
              "      <td>NaN</td>\n",
              "      <td>NaN</td>\n",
              "      <td>1.346026</td>\n",
              "      <td>1.022264</td>\n",
              "      <td>0.775593</td>\n",
              "      <td>0.617561</td>\n",
              "      <td>0.466188</td>\n",
              "    </tr>\n",
              "    <tr>\n",
              "      <th>std</th>\n",
              "      <td>2.394707e+09</td>\n",
              "      <td>5.843344e+04</td>\n",
              "      <td>28.148113</td>\n",
              "      <td>22853.906872</td>\n",
              "      <td>NaN</td>\n",
              "      <td>NaN</td>\n",
              "      <td>NaN</td>\n",
              "      <td>1.411257</td>\n",
              "      <td>13.664378</td>\n",
              "      <td>NaN</td>\n",
              "      <td>NaN</td>\n",
              "      <td>NaN</td>\n",
              "      <td>NaN</td>\n",
              "      <td>3.915888</td>\n",
              "      <td>NaN</td>\n",
              "      <td>NaN</td>\n",
              "      <td>1.406909</td>\n",
              "      <td>NaN</td>\n",
              "      <td>NaN</td>\n",
              "      <td>NaN</td>\n",
              "      <td>NaN</td>\n",
              "      <td>NaN</td>\n",
              "      <td>1.325699</td>\n",
              "      <td>1.286348</td>\n",
              "      <td>1.190036</td>\n",
              "      <td>1.102402</td>\n",
              "      <td>0.971020</td>\n",
              "    </tr>\n",
              "    <tr>\n",
              "      <th>min</th>\n",
              "      <td>1.000475e+09</td>\n",
              "      <td>1.678600e+04</td>\n",
              "      <td>14.000000</td>\n",
              "      <td>10006.000000</td>\n",
              "      <td>NaN</td>\n",
              "      <td>NaN</td>\n",
              "      <td>NaN</td>\n",
              "      <td>1.000000</td>\n",
              "      <td>18.000000</td>\n",
              "      <td>NaN</td>\n",
              "      <td>NaN</td>\n",
              "      <td>NaN</td>\n",
              "      <td>NaN</td>\n",
              "      <td>2004.000000</td>\n",
              "      <td>NaN</td>\n",
              "      <td>NaN</td>\n",
              "      <td>1.000000</td>\n",
              "      <td>NaN</td>\n",
              "      <td>NaN</td>\n",
              "      <td>NaN</td>\n",
              "      <td>NaN</td>\n",
              "      <td>NaN</td>\n",
              "      <td>0.000000</td>\n",
              "      <td>0.000000</td>\n",
              "      <td>0.000000</td>\n",
              "      <td>0.000000</td>\n",
              "      <td>0.000000</td>\n",
              "    </tr>\n",
              "    <tr>\n",
              "      <th>25%</th>\n",
              "      <td>3.092187e+09</td>\n",
              "      <td>5.085550e+04</td>\n",
              "      <td>32.000000</td>\n",
              "      <td>33534.000000</td>\n",
              "      <td>NaN</td>\n",
              "      <td>NaN</td>\n",
              "      <td>NaN</td>\n",
              "      <td>2.000000</td>\n",
              "      <td>28.000000</td>\n",
              "      <td>NaN</td>\n",
              "      <td>NaN</td>\n",
              "      <td>NaN</td>\n",
              "      <td>NaN</td>\n",
              "      <td>2007.000000</td>\n",
              "      <td>NaN</td>\n",
              "      <td>NaN</td>\n",
              "      <td>2.000000</td>\n",
              "      <td>NaN</td>\n",
              "      <td>NaN</td>\n",
              "      <td>NaN</td>\n",
              "      <td>NaN</td>\n",
              "      <td>NaN</td>\n",
              "      <td>0.000000</td>\n",
              "      <td>0.000000</td>\n",
              "      <td>0.000000</td>\n",
              "      <td>0.000000</td>\n",
              "      <td>0.000000</td>\n",
              "    </tr>\n",
              "    <tr>\n",
              "      <th>50%</th>\n",
              "      <td>5.213208e+09</td>\n",
              "      <td>7.421050e+04</td>\n",
              "      <td>43.000000</td>\n",
              "      <td>52981.000000</td>\n",
              "      <td>NaN</td>\n",
              "      <td>NaN</td>\n",
              "      <td>NaN</td>\n",
              "      <td>3.000000</td>\n",
              "      <td>39.000000</td>\n",
              "      <td>NaN</td>\n",
              "      <td>NaN</td>\n",
              "      <td>NaN</td>\n",
              "      <td>NaN</td>\n",
              "      <td>2011.000000</td>\n",
              "      <td>NaN</td>\n",
              "      <td>NaN</td>\n",
              "      <td>3.000000</td>\n",
              "      <td>NaN</td>\n",
              "      <td>NaN</td>\n",
              "      <td>NaN</td>\n",
              "      <td>NaN</td>\n",
              "      <td>NaN</td>\n",
              "      <td>2.000000</td>\n",
              "      <td>0.000000</td>\n",
              "      <td>0.000000</td>\n",
              "      <td>0.000000</td>\n",
              "      <td>0.000000</td>\n",
              "    </tr>\n",
              "    <tr>\n",
              "      <th>75%</th>\n",
              "      <td>7.249635e+09</td>\n",
              "      <td>1.088115e+05</td>\n",
              "      <td>59.000000</td>\n",
              "      <td>69401.000000</td>\n",
              "      <td>NaN</td>\n",
              "      <td>NaN</td>\n",
              "      <td>NaN</td>\n",
              "      <td>4.000000</td>\n",
              "      <td>52.000000</td>\n",
              "      <td>NaN</td>\n",
              "      <td>NaN</td>\n",
              "      <td>NaN</td>\n",
              "      <td>NaN</td>\n",
              "      <td>2015.000000</td>\n",
              "      <td>NaN</td>\n",
              "      <td>NaN</td>\n",
              "      <td>4.000000</td>\n",
              "      <td>NaN</td>\n",
              "      <td>NaN</td>\n",
              "      <td>NaN</td>\n",
              "      <td>NaN</td>\n",
              "      <td>NaN</td>\n",
              "      <td>3.000000</td>\n",
              "      <td>2.000000</td>\n",
              "      <td>2.000000</td>\n",
              "      <td>1.000000</td>\n",
              "      <td>0.000000</td>\n",
              "    </tr>\n",
              "    <tr>\n",
              "      <th>max</th>\n",
              "      <td>9.996000e+09</td>\n",
              "      <td>1.250924e+06</td>\n",
              "      <td>608.000000</td>\n",
              "      <td>99793.000000</td>\n",
              "      <td>NaN</td>\n",
              "      <td>NaN</td>\n",
              "      <td>NaN</td>\n",
              "      <td>5.000000</td>\n",
              "      <td>64.000000</td>\n",
              "      <td>NaN</td>\n",
              "      <td>NaN</td>\n",
              "      <td>NaN</td>\n",
              "      <td>NaN</td>\n",
              "      <td>2017.000000</td>\n",
              "      <td>NaN</td>\n",
              "      <td>NaN</td>\n",
              "      <td>5.000000</td>\n",
              "      <td>NaN</td>\n",
              "      <td>NaN</td>\n",
              "      <td>NaN</td>\n",
              "      <td>NaN</td>\n",
              "      <td>NaN</td>\n",
              "      <td>5.000000</td>\n",
              "      <td>5.000000</td>\n",
              "      <td>5.000000</td>\n",
              "      <td>5.000000</td>\n",
              "      <td>5.000000</td>\n",
              "    </tr>\n",
              "  </tbody>\n",
              "</table>\n",
              "</div>"
            ],
            "text/plain": [
              "              EMP_ID   ANNUAL_RATE  ...     PREVYR_4     PREVYR_5\n",
              "count   9.612000e+03  9.612000e+03  ...  9612.000000  9612.000000\n",
              "unique           NaN           NaN  ...          NaN          NaN\n",
              "top              NaN           NaN  ...          NaN          NaN\n",
              "freq             NaN           NaN  ...          NaN          NaN\n",
              "mean    5.168687e+09  8.938563e+04  ...     0.617561     0.466188\n",
              "std     2.394707e+09  5.843344e+04  ...     1.102402     0.971020\n",
              "min     1.000475e+09  1.678600e+04  ...     0.000000     0.000000\n",
              "25%     3.092187e+09  5.085550e+04  ...     0.000000     0.000000\n",
              "50%     5.213208e+09  7.421050e+04  ...     0.000000     0.000000\n",
              "75%     7.249635e+09  1.088115e+05  ...     1.000000     0.000000\n",
              "max     9.996000e+09  1.250924e+06  ...     5.000000     5.000000\n",
              "\n",
              "[11 rows x 27 columns]"
            ]
          },
          "metadata": {
            "tags": []
          },
          "execution_count": 2
        }
      ]
    },
    {
      "cell_type": "code",
      "metadata": {
        "id": "7rYo96bH14Cv",
        "colab_type": "code",
        "colab": {
          "base_uri": "https://localhost:8080/",
          "height": 493
        },
        "outputId": "b2c3e773-9569-49d7-eda1-c7d20c9ef10c"
      },
      "source": [
        "data.dtypes"
      ],
      "execution_count": 3,
      "outputs": [
        {
          "output_type": "execute_result",
          "data": {
            "text/plain": [
              "EMP_ID                      int64\n",
              "ANNUAL_RATE                 int64\n",
              "HRLY_RATE                   int64\n",
              "JOBCODE                     int64\n",
              "ETHNICITY                  object\n",
              "SEX                        object\n",
              "MARITAL_STATUS             object\n",
              "JOB_SATISFACTION            int64\n",
              "AGE                         int64\n",
              "NUMBER_OF_TEAM_CHANGED     object\n",
              "REFERRAL_SOURCE            object\n",
              "HIRE_MONTH                 object\n",
              "REHIRE                       bool\n",
              "TERMINATION_YEAR          float64\n",
              "IS_FIRST_JOB               object\n",
              "TRAVELLED_REQUIRED         object\n",
              "PERFORMANCE_RATING          int64\n",
              "DISABLED_EMP               object\n",
              "DISABLED_VET               object\n",
              "EDUCATION_LEVEL            object\n",
              "STATUS                     object\n",
              "JOB_GROUP                  object\n",
              "PREVYR_1                    int64\n",
              "PREVYR_2                    int64\n",
              "PREVYR_3                    int64\n",
              "PREVYR_4                    int64\n",
              "PREVYR_5                    int64\n",
              "dtype: object"
            ]
          },
          "metadata": {
            "tags": []
          },
          "execution_count": 3
        }
      ]
    },
    {
      "cell_type": "markdown",
      "metadata": {
        "id": "oJcYaVpZkwUY",
        "colab_type": "text"
      },
      "source": [
        "# Drop \"EMP_ID\" and \"TERMINATION_YEAR\""
      ]
    },
    {
      "cell_type": "code",
      "metadata": {
        "id": "a-K7YH9Bk9yM",
        "colab_type": "code",
        "colab": {
          "base_uri": "https://localhost:8080/",
          "height": 609
        },
        "outputId": "d39aec72-d691-4edd-bd8c-eece4c2eaa6e"
      },
      "source": [
        "data.drop([\"EMP_ID\", \"TERMINATION_YEAR\"], axis=1, inplace=True)\n",
        "\n",
        "data"
      ],
      "execution_count": 6,
      "outputs": [
        {
          "output_type": "execute_result",
          "data": {
            "text/html": [
              "<div>\n",
              "<style scoped>\n",
              "    .dataframe tbody tr th:only-of-type {\n",
              "        vertical-align: middle;\n",
              "    }\n",
              "\n",
              "    .dataframe tbody tr th {\n",
              "        vertical-align: top;\n",
              "    }\n",
              "\n",
              "    .dataframe thead th {\n",
              "        text-align: right;\n",
              "    }\n",
              "</style>\n",
              "<table border=\"1\" class=\"dataframe\">\n",
              "  <thead>\n",
              "    <tr style=\"text-align: right;\">\n",
              "      <th></th>\n",
              "      <th>ANNUAL_RATE</th>\n",
              "      <th>HRLY_RATE</th>\n",
              "      <th>JOBCODE</th>\n",
              "      <th>ETHNICITY</th>\n",
              "      <th>SEX</th>\n",
              "      <th>MARITAL_STATUS</th>\n",
              "      <th>JOB_SATISFACTION</th>\n",
              "      <th>AGE</th>\n",
              "      <th>NUMBER_OF_TEAM_CHANGED</th>\n",
              "      <th>REFERRAL_SOURCE</th>\n",
              "      <th>HIRE_MONTH</th>\n",
              "      <th>REHIRE</th>\n",
              "      <th>IS_FIRST_JOB</th>\n",
              "      <th>TRAVELLED_REQUIRED</th>\n",
              "      <th>PERFORMANCE_RATING</th>\n",
              "      <th>DISABLED_EMP</th>\n",
              "      <th>DISABLED_VET</th>\n",
              "      <th>EDUCATION_LEVEL</th>\n",
              "      <th>STATUS</th>\n",
              "      <th>JOB_GROUP</th>\n",
              "      <th>PREVYR_1</th>\n",
              "      <th>PREVYR_2</th>\n",
              "      <th>PREVYR_3</th>\n",
              "      <th>PREVYR_4</th>\n",
              "      <th>PREVYR_5</th>\n",
              "    </tr>\n",
              "  </thead>\n",
              "  <tbody>\n",
              "    <tr>\n",
              "      <th>0</th>\n",
              "      <td>33615</td>\n",
              "      <td>22</td>\n",
              "      <td>71850</td>\n",
              "      <td>BLACK</td>\n",
              "      <td>F</td>\n",
              "      <td>Divorced</td>\n",
              "      <td>4</td>\n",
              "      <td>35</td>\n",
              "      <td>3+</td>\n",
              "      <td>Client Referral</td>\n",
              "      <td>June</td>\n",
              "      <td>False</td>\n",
              "      <td>N</td>\n",
              "      <td>N</td>\n",
              "      <td>4</td>\n",
              "      <td>N</td>\n",
              "      <td>N</td>\n",
              "      <td>LEVEL 2</td>\n",
              "      <td>T</td>\n",
              "      <td>Plant &amp; Facilities Maintenance</td>\n",
              "      <td>0</td>\n",
              "      <td>0</td>\n",
              "      <td>0</td>\n",
              "      <td>0</td>\n",
              "      <td>0</td>\n",
              "    </tr>\n",
              "    <tr>\n",
              "      <th>1</th>\n",
              "      <td>70675</td>\n",
              "      <td>40</td>\n",
              "      <td>59806</td>\n",
              "      <td>ASIAN</td>\n",
              "      <td>M</td>\n",
              "      <td>Single</td>\n",
              "      <td>3</td>\n",
              "      <td>18</td>\n",
              "      <td>3+</td>\n",
              "      <td>Executive Referral</td>\n",
              "      <td>June</td>\n",
              "      <td>False</td>\n",
              "      <td>Y</td>\n",
              "      <td>N</td>\n",
              "      <td>3</td>\n",
              "      <td>N</td>\n",
              "      <td>N</td>\n",
              "      <td>LEVEL 1</td>\n",
              "      <td>A</td>\n",
              "      <td>Customer Care</td>\n",
              "      <td>3</td>\n",
              "      <td>3</td>\n",
              "      <td>3</td>\n",
              "      <td>2</td>\n",
              "      <td>3</td>\n",
              "    </tr>\n",
              "    <tr>\n",
              "      <th>2</th>\n",
              "      <td>34320</td>\n",
              "      <td>23</td>\n",
              "      <td>60311</td>\n",
              "      <td>WHITE</td>\n",
              "      <td>F</td>\n",
              "      <td>Single</td>\n",
              "      <td>5</td>\n",
              "      <td>18</td>\n",
              "      <td>2</td>\n",
              "      <td>Former Employee/Intern</td>\n",
              "      <td>February</td>\n",
              "      <td>False</td>\n",
              "      <td>Y</td>\n",
              "      <td>N</td>\n",
              "      <td>3</td>\n",
              "      <td>N</td>\n",
              "      <td>N</td>\n",
              "      <td>LEVEL 1</td>\n",
              "      <td>A</td>\n",
              "      <td>Customer Care</td>\n",
              "      <td>3</td>\n",
              "      <td>3</td>\n",
              "      <td>3</td>\n",
              "      <td>2</td>\n",
              "      <td>3</td>\n",
              "    </tr>\n",
              "    <tr>\n",
              "      <th>3</th>\n",
              "      <td>103199</td>\n",
              "      <td>59</td>\n",
              "      <td>16233</td>\n",
              "      <td>ASIAN</td>\n",
              "      <td>F</td>\n",
              "      <td>Single</td>\n",
              "      <td>2</td>\n",
              "      <td>50</td>\n",
              "      <td>0</td>\n",
              "      <td>Direct Sourcing</td>\n",
              "      <td>October</td>\n",
              "      <td>True</td>\n",
              "      <td>N</td>\n",
              "      <td>Y</td>\n",
              "      <td>2</td>\n",
              "      <td>N</td>\n",
              "      <td>N</td>\n",
              "      <td>LEVEL 1</td>\n",
              "      <td>T</td>\n",
              "      <td>Finance</td>\n",
              "      <td>0</td>\n",
              "      <td>0</td>\n",
              "      <td>0</td>\n",
              "      <td>0</td>\n",
              "      <td>0</td>\n",
              "    </tr>\n",
              "    <tr>\n",
              "      <th>4</th>\n",
              "      <td>141801</td>\n",
              "      <td>71</td>\n",
              "      <td>64415</td>\n",
              "      <td>ASIAN</td>\n",
              "      <td>F</td>\n",
              "      <td>Single</td>\n",
              "      <td>4</td>\n",
              "      <td>34</td>\n",
              "      <td>3</td>\n",
              "      <td>Inroads</td>\n",
              "      <td>May</td>\n",
              "      <td>False</td>\n",
              "      <td>N</td>\n",
              "      <td>N</td>\n",
              "      <td>4</td>\n",
              "      <td>N</td>\n",
              "      <td>N</td>\n",
              "      <td>LEVEL 1</td>\n",
              "      <td>A</td>\n",
              "      <td>Marketing - Direct</td>\n",
              "      <td>2</td>\n",
              "      <td>2</td>\n",
              "      <td>2</td>\n",
              "      <td>2</td>\n",
              "      <td>2</td>\n",
              "    </tr>\n",
              "    <tr>\n",
              "      <th>...</th>\n",
              "      <td>...</td>\n",
              "      <td>...</td>\n",
              "      <td>...</td>\n",
              "      <td>...</td>\n",
              "      <td>...</td>\n",
              "      <td>...</td>\n",
              "      <td>...</td>\n",
              "      <td>...</td>\n",
              "      <td>...</td>\n",
              "      <td>...</td>\n",
              "      <td>...</td>\n",
              "      <td>...</td>\n",
              "      <td>...</td>\n",
              "      <td>...</td>\n",
              "      <td>...</td>\n",
              "      <td>...</td>\n",
              "      <td>...</td>\n",
              "      <td>...</td>\n",
              "      <td>...</td>\n",
              "      <td>...</td>\n",
              "      <td>...</td>\n",
              "      <td>...</td>\n",
              "      <td>...</td>\n",
              "      <td>...</td>\n",
              "      <td>...</td>\n",
              "    </tr>\n",
              "    <tr>\n",
              "      <th>9607</th>\n",
              "      <td>34636</td>\n",
              "      <td>23</td>\n",
              "      <td>58258</td>\n",
              "      <td>ASIAN</td>\n",
              "      <td>F</td>\n",
              "      <td>Single</td>\n",
              "      <td>1</td>\n",
              "      <td>43</td>\n",
              "      <td>0</td>\n",
              "      <td>Staffing Agency</td>\n",
              "      <td>July</td>\n",
              "      <td>False</td>\n",
              "      <td>N</td>\n",
              "      <td>N</td>\n",
              "      <td>1</td>\n",
              "      <td>N</td>\n",
              "      <td>Y</td>\n",
              "      <td>LEVEL 1</td>\n",
              "      <td>A</td>\n",
              "      <td>Physical Flows</td>\n",
              "      <td>0</td>\n",
              "      <td>0</td>\n",
              "      <td>0</td>\n",
              "      <td>0</td>\n",
              "      <td>0</td>\n",
              "    </tr>\n",
              "    <tr>\n",
              "      <th>9608</th>\n",
              "      <td>34962</td>\n",
              "      <td>27</td>\n",
              "      <td>58258</td>\n",
              "      <td>WHITE</td>\n",
              "      <td>F</td>\n",
              "      <td>Single</td>\n",
              "      <td>5</td>\n",
              "      <td>28</td>\n",
              "      <td>2</td>\n",
              "      <td>NaN</td>\n",
              "      <td>November</td>\n",
              "      <td>False</td>\n",
              "      <td>N</td>\n",
              "      <td>N</td>\n",
              "      <td>1</td>\n",
              "      <td>N</td>\n",
              "      <td>N</td>\n",
              "      <td>LEVEL 3</td>\n",
              "      <td>A</td>\n",
              "      <td>Physical Flows</td>\n",
              "      <td>0</td>\n",
              "      <td>0</td>\n",
              "      <td>0</td>\n",
              "      <td>0</td>\n",
              "      <td>0</td>\n",
              "    </tr>\n",
              "    <tr>\n",
              "      <th>9609</th>\n",
              "      <td>39286</td>\n",
              "      <td>27</td>\n",
              "      <td>36545</td>\n",
              "      <td>WHITE</td>\n",
              "      <td>F</td>\n",
              "      <td>Single</td>\n",
              "      <td>3</td>\n",
              "      <td>31</td>\n",
              "      <td>2</td>\n",
              "      <td>Executive Referral</td>\n",
              "      <td>February</td>\n",
              "      <td>False</td>\n",
              "      <td>N</td>\n",
              "      <td>N</td>\n",
              "      <td>1</td>\n",
              "      <td>N</td>\n",
              "      <td>N</td>\n",
              "      <td>LEVEL 3</td>\n",
              "      <td>A</td>\n",
              "      <td>Production &amp; Operations</td>\n",
              "      <td>0</td>\n",
              "      <td>0</td>\n",
              "      <td>0</td>\n",
              "      <td>0</td>\n",
              "      <td>0</td>\n",
              "    </tr>\n",
              "    <tr>\n",
              "      <th>9610</th>\n",
              "      <td>39145</td>\n",
              "      <td>27</td>\n",
              "      <td>44203</td>\n",
              "      <td>WHITE</td>\n",
              "      <td>M</td>\n",
              "      <td>Married</td>\n",
              "      <td>4</td>\n",
              "      <td>32</td>\n",
              "      <td>3+</td>\n",
              "      <td>Open House</td>\n",
              "      <td>February</td>\n",
              "      <td>False</td>\n",
              "      <td>N</td>\n",
              "      <td>N</td>\n",
              "      <td>4</td>\n",
              "      <td>N</td>\n",
              "      <td>N</td>\n",
              "      <td>LEVEL 2</td>\n",
              "      <td>A</td>\n",
              "      <td>Production &amp; Operations</td>\n",
              "      <td>0</td>\n",
              "      <td>0</td>\n",
              "      <td>0</td>\n",
              "      <td>0</td>\n",
              "      <td>0</td>\n",
              "    </tr>\n",
              "    <tr>\n",
              "      <th>9611</th>\n",
              "      <td>90726</td>\n",
              "      <td>50</td>\n",
              "      <td>89546</td>\n",
              "      <td>WHITE</td>\n",
              "      <td>F</td>\n",
              "      <td>Single</td>\n",
              "      <td>1</td>\n",
              "      <td>46</td>\n",
              "      <td>0</td>\n",
              "      <td>Job Posting</td>\n",
              "      <td>November</td>\n",
              "      <td>False</td>\n",
              "      <td>N</td>\n",
              "      <td>N</td>\n",
              "      <td>1</td>\n",
              "      <td>N</td>\n",
              "      <td>N</td>\n",
              "      <td>LEVEL 4</td>\n",
              "      <td>A</td>\n",
              "      <td>Physical Flows</td>\n",
              "      <td>0</td>\n",
              "      <td>0</td>\n",
              "      <td>0</td>\n",
              "      <td>0</td>\n",
              "      <td>0</td>\n",
              "    </tr>\n",
              "  </tbody>\n",
              "</table>\n",
              "<p>9612 rows × 25 columns</p>\n",
              "</div>"
            ],
            "text/plain": [
              "      ANNUAL_RATE  HRLY_RATE  JOBCODE  ... PREVYR_3 PREVYR_4 PREVYR_5\n",
              "0           33615         22    71850  ...        0        0        0\n",
              "1           70675         40    59806  ...        3        2        3\n",
              "2           34320         23    60311  ...        3        2        3\n",
              "3          103199         59    16233  ...        0        0        0\n",
              "4          141801         71    64415  ...        2        2        2\n",
              "...           ...        ...      ...  ...      ...      ...      ...\n",
              "9607        34636         23    58258  ...        0        0        0\n",
              "9608        34962         27    58258  ...        0        0        0\n",
              "9609        39286         27    36545  ...        0        0        0\n",
              "9610        39145         27    44203  ...        0        0        0\n",
              "9611        90726         50    89546  ...        0        0        0\n",
              "\n",
              "[9612 rows x 25 columns]"
            ]
          },
          "metadata": {
            "tags": []
          },
          "execution_count": 6
        }
      ]
    },
    {
      "cell_type": "markdown",
      "metadata": {
        "id": "6EyVtioEdxql",
        "colab_type": "text"
      },
      "source": [
        "# Replace all \" \" with a random ethnicity in \"ETHNICITY\""
      ]
    },
    {
      "cell_type": "code",
      "metadata": {
        "id": "57YdqkInaXig",
        "colab_type": "code",
        "colab": {
          "base_uri": "https://localhost:8080/",
          "height": 51
        },
        "outputId": "332ab7e1-279f-4a36-a72c-57b5aa9cba17"
      },
      "source": [
        "pd.unique(data['ETHNICITY'])"
      ],
      "execution_count": 7,
      "outputs": [
        {
          "output_type": "execute_result",
          "data": {
            "text/plain": [
              "array(['BLACK', 'ASIAN', 'WHITE', 'HISPA', 'PACIF', 'TWO', 'AMIND', ' '],\n",
              "      dtype=object)"
            ]
          },
          "metadata": {
            "tags": []
          },
          "execution_count": 7
        }
      ]
    },
    {
      "cell_type": "code",
      "metadata": {
        "id": "WW8FIy0GYY10",
        "colab_type": "code",
        "colab": {
          "base_uri": "https://localhost:8080/",
          "height": 34
        },
        "outputId": "54064411-d90f-4a3a-e0b6-944f58200be3"
      },
      "source": [
        "import random\n",
        "random_ethnicity = random.choice(data[data['ETHNICITY'] != \" \"]['ETHNICITY'])\n",
        "random_ethnicity"
      ],
      "execution_count": 8,
      "outputs": [
        {
          "output_type": "execute_result",
          "data": {
            "text/plain": [
              "'ASIAN'"
            ]
          },
          "metadata": {
            "tags": []
          },
          "execution_count": 8
        }
      ]
    },
    {
      "cell_type": "code",
      "metadata": {
        "id": "O5KVzL_oa_y-",
        "colab_type": "code",
        "colab": {
          "base_uri": "https://localhost:8080/",
          "height": 34
        },
        "outputId": "470a68d2-2409-40ce-9fe0-fbcb00179922"
      },
      "source": [
        "index_list = data.index[data['ETHNICITY'] == \" \"].tolist()\n",
        "index_list"
      ],
      "execution_count": 9,
      "outputs": [
        {
          "output_type": "execute_result",
          "data": {
            "text/plain": [
              "[2934]"
            ]
          },
          "metadata": {
            "tags": []
          },
          "execution_count": 9
        }
      ]
    },
    {
      "cell_type": "code",
      "metadata": {
        "id": "NQD6TBqGiJkh",
        "colab_type": "code",
        "colab": {}
      },
      "source": [
        "data['ETHNICITY'].replace(\" \", random_ethnicity, inplace = True)"
      ],
      "execution_count": 0,
      "outputs": []
    },
    {
      "cell_type": "code",
      "metadata": {
        "id": "HOnSdSWFb5le",
        "colab_type": "code",
        "colab": {
          "base_uri": "https://localhost:8080/",
          "height": 34
        },
        "outputId": "507d817f-b814-47f2-ed8a-24baff408474"
      },
      "source": [
        "data['ETHNICITY'][index_list[0]]"
      ],
      "execution_count": 11,
      "outputs": [
        {
          "output_type": "execute_result",
          "data": {
            "text/plain": [
              "'ASIAN'"
            ]
          },
          "metadata": {
            "tags": []
          },
          "execution_count": 11
        }
      ]
    },
    {
      "cell_type": "code",
      "metadata": {
        "id": "054He-0Xb_AC",
        "colab_type": "code",
        "colab": {
          "base_uri": "https://localhost:8080/",
          "height": 51
        },
        "outputId": "f70a14fb-c06e-4283-8eb6-03563577c23f"
      },
      "source": [
        "pd.unique(data['ETHNICITY'])"
      ],
      "execution_count": 12,
      "outputs": [
        {
          "output_type": "execute_result",
          "data": {
            "text/plain": [
              "array(['BLACK', 'ASIAN', 'WHITE', 'HISPA', 'PACIF', 'TWO', 'AMIND'],\n",
              "      dtype=object)"
            ]
          },
          "metadata": {
            "tags": []
          },
          "execution_count": 12
        }
      ]
    },
    {
      "cell_type": "code",
      "metadata": {
        "id": "DP1d5Afeczyv",
        "colab_type": "code",
        "colab": {
          "base_uri": "https://localhost:8080/",
          "height": 102
        },
        "outputId": "99731b15-d5da-4722-8cbf-bbf767e93345"
      },
      "source": [
        "data['ETHNICITY'].describe(include='all')"
      ],
      "execution_count": 13,
      "outputs": [
        {
          "output_type": "execute_result",
          "data": {
            "text/plain": [
              "count      9612\n",
              "unique        7\n",
              "top       WHITE\n",
              "freq       5820\n",
              "Name: ETHNICITY, dtype: object"
            ]
          },
          "metadata": {
            "tags": []
          },
          "execution_count": 13
        }
      ]
    },
    {
      "cell_type": "markdown",
      "metadata": {
        "id": "23sNXHV4fSnN",
        "colab_type": "text"
      },
      "source": [
        "# Replace all \" \" with \"Unknown\" in \"REFERRAL_SOURCE\""
      ]
    },
    {
      "cell_type": "code",
      "metadata": {
        "id": "4rPYKSQ9fUg1",
        "colab_type": "code",
        "colab": {
          "base_uri": "https://localhost:8080/",
          "height": 136
        },
        "outputId": "f23dc5e8-9fb0-4e72-c8a6-2196ae09e25d"
      },
      "source": [
        "pd.unique(data['REFERRAL_SOURCE'])"
      ],
      "execution_count": 14,
      "outputs": [
        {
          "output_type": "execute_result",
          "data": {
            "text/plain": [
              "array(['Client Referral', 'Executive Referral', 'Former Employee/Intern',\n",
              "       'Direct Sourcing', 'Inroads', 'Unknown', nan, 'Job Fair',\n",
              "       'Print Advertisement', 'Corporate Career Site', 'Agency',\n",
              "       'College Recommendation', 'Job Posting',\n",
              "       'Job Boards/Online Advertising', 'Open House',\n",
              "       'College Recruiting(UnderGrad)', 'E-Strat', 'Unsolicited',\n",
              "       'Staffing Agency', 'Other Source'], dtype=object)"
            ]
          },
          "metadata": {
            "tags": []
          },
          "execution_count": 14
        }
      ]
    },
    {
      "cell_type": "code",
      "metadata": {
        "id": "hi7T8EP1fuGP",
        "colab_type": "code",
        "colab": {}
      },
      "source": [
        "data['REFERRAL_SOURCE'].fillna('Unknown', inplace=True)"
      ],
      "execution_count": 0,
      "outputs": []
    },
    {
      "cell_type": "code",
      "metadata": {
        "id": "4WoGbHm8g3ri",
        "colab_type": "code",
        "colab": {
          "base_uri": "https://localhost:8080/",
          "height": 136
        },
        "outputId": "b0b80a51-288c-44ce-94b5-6334f83b1dca"
      },
      "source": [
        "pd.unique(data['REFERRAL_SOURCE'])"
      ],
      "execution_count": 16,
      "outputs": [
        {
          "output_type": "execute_result",
          "data": {
            "text/plain": [
              "array(['Client Referral', 'Executive Referral', 'Former Employee/Intern',\n",
              "       'Direct Sourcing', 'Inroads', 'Unknown', 'Job Fair',\n",
              "       'Print Advertisement', 'Corporate Career Site', 'Agency',\n",
              "       'College Recommendation', 'Job Posting',\n",
              "       'Job Boards/Online Advertising', 'Open House',\n",
              "       'College Recruiting(UnderGrad)', 'E-Strat', 'Unsolicited',\n",
              "       'Staffing Agency', 'Other Source'], dtype=object)"
            ]
          },
          "metadata": {
            "tags": []
          },
          "execution_count": 16
        }
      ]
    },
    {
      "cell_type": "code",
      "metadata": {
        "id": "8O_BFUUig-qx",
        "colab_type": "code",
        "colab": {
          "base_uri": "https://localhost:8080/",
          "height": 102
        },
        "outputId": "ec74f2a8-87ea-4935-d913-10ec290a6083"
      },
      "source": [
        "data['REFERRAL_SOURCE'].describe(include='all')"
      ],
      "execution_count": 17,
      "outputs": [
        {
          "output_type": "execute_result",
          "data": {
            "text/plain": [
              "count        9612\n",
              "unique         19\n",
              "top       Unknown\n",
              "freq          917\n",
              "Name: REFERRAL_SOURCE, dtype: object"
            ]
          },
          "metadata": {
            "tags": []
          },
          "execution_count": 17
        }
      ]
    },
    {
      "cell_type": "code",
      "metadata": {
        "id": "Ku6-52_blZhK",
        "colab_type": "code",
        "colab": {
          "base_uri": "https://localhost:8080/",
          "height": 221
        },
        "outputId": "7b9690ca-f23e-4738-a31f-56d0a6f7618a"
      },
      "source": [
        "data['REFERRAL_SOURCE']"
      ],
      "execution_count": 18,
      "outputs": [
        {
          "output_type": "execute_result",
          "data": {
            "text/plain": [
              "0              Client Referral\n",
              "1           Executive Referral\n",
              "2       Former Employee/Intern\n",
              "3              Direct Sourcing\n",
              "4                      Inroads\n",
              "                 ...          \n",
              "9607           Staffing Agency\n",
              "9608                   Unknown\n",
              "9609        Executive Referral\n",
              "9610                Open House\n",
              "9611               Job Posting\n",
              "Name: REFERRAL_SOURCE, Length: 9612, dtype: object"
            ]
          },
          "metadata": {
            "tags": []
          },
          "execution_count": 18
        }
      ]
    },
    {
      "cell_type": "markdown",
      "metadata": {
        "id": "Ck_AeFN4jXel",
        "colab_type": "text"
      },
      "source": [
        "# Retrieve numpy array"
      ]
    },
    {
      "cell_type": "code",
      "metadata": {
        "id": "qFfekVgadMbB",
        "colab_type": "code",
        "colab": {
          "base_uri": "https://localhost:8080/",
          "height": 34
        },
        "outputId": "84a7cf62-a055-4762-9f11-19f963d491c0"
      },
      "source": [
        "dataset = data.values\n",
        "\n",
        "dataset.shape"
      ],
      "execution_count": 31,
      "outputs": [
        {
          "output_type": "execute_result",
          "data": {
            "text/plain": [
              "(9612, 25)"
            ]
          },
          "metadata": {
            "tags": []
          },
          "execution_count": 31
        }
      ]
    },
    {
      "cell_type": "markdown",
      "metadata": {
        "id": "oefwPajKxF3M",
        "colab_type": "text"
      },
      "source": [
        "# Perform min-max scaling each numerical feature column to the range [0,1]"
      ]
    },
    {
      "cell_type": "code",
      "metadata": {
        "id": "4YrUYEYWxkej",
        "colab_type": "code",
        "colab": {
          "base_uri": "https://localhost:8080/",
          "height": 34
        },
        "outputId": "57c2e870-b104-4016-88b5-dd2f6e1b5697"
      },
      "source": [
        "from sklearn.preprocessing import MinMaxScaler\n",
        "\n",
        "mms = MinMaxScaler()\n",
        "num = ['ANNUAL_RATE', 'HRLY_RATE', 'JOB_SATISFACTION', 'AGE', 'PERFORMANCE_RATING', 'PREVYR_1', 'PREVYR_2', 'PREVYR_3', 'PREVYR_4', 'PREVYR_5']\n",
        "dataset_num = data[num].values\n",
        "mms.fit(dataset_num)\n",
        "dataset_num_norm = mms.transform(dataset_num)\n",
        "dataset_num_norm.shape"
      ],
      "execution_count": 30,
      "outputs": [
        {
          "output_type": "execute_result",
          "data": {
            "text/plain": [
              "(9612, 10)"
            ]
          },
          "metadata": {
            "tags": []
          },
          "execution_count": 30
        }
      ]
    },
    {
      "cell_type": "markdown",
      "metadata": {
        "id": "dq8wTqJF4Xif",
        "colab_type": "text"
      },
      "source": [
        "# Perform one-hot encoding on each categorical feature column"
      ]
    },
    {
      "cell_type": "code",
      "metadata": {
        "id": "yL4ZPxXVYNKF",
        "colab_type": "code",
        "colab": {
          "base_uri": "https://localhost:8080/",
          "height": 136
        },
        "outputId": "31851e56-002d-44d7-86fe-8017ec641e80"
      },
      "source": [
        "from sklearn.preprocessing import OneHotEncoder\n",
        "\n",
        "ohe = OneHotEncoder()\n",
        "cat = ['JOBCODE', 'ETHNICITY', 'SEX', 'MARITAL_STATUS', 'NUMBER_OF_TEAM_CHANGED', 'REFERRAL_SOURCE', 'HIRE_MONTH', 'REHIRE', 'IS_FIRST_JOB', 'TRAVELLED_REQUIRED', 'DISABLED_EMP', 'DISABLED_VET', 'EDUCATION_LEVEL', 'JOB_GROUP']\n",
        "dataset_cat = data[cat].values\n",
        "# format all fields as string\n",
        "dataset_cat = dataset_cat.astype(str)\n",
        "ohe.fit(dataset_cat)\n",
        "dataset_cat_enc = ohe.transform(dataset_cat).todense()\n",
        "dataset_cat_enc"
      ],
      "execution_count": 57,
      "outputs": [
        {
          "output_type": "execute_result",
          "data": {
            "text/plain": [
              "matrix([[0., 0., 0., ..., 0., 0., 0.],\n",
              "        [0., 0., 0., ..., 0., 0., 0.],\n",
              "        [0., 0., 0., ..., 0., 0., 0.],\n",
              "        ...,\n",
              "        [0., 0., 0., ..., 0., 0., 0.],\n",
              "        [0., 0., 0., ..., 0., 0., 0.],\n",
              "        [0., 0., 0., ..., 0., 0., 0.]])"
            ]
          },
          "metadata": {
            "tags": []
          },
          "execution_count": 57
        }
      ]
    },
    {
      "cell_type": "markdown",
      "metadata": {
        "id": "xTso3TMV68EK",
        "colab_type": "text"
      },
      "source": [
        "# Perform one-hot encoding on label column"
      ]
    },
    {
      "cell_type": "code",
      "metadata": {
        "id": "7FI9LXPIfLZk",
        "colab_type": "code",
        "colab": {
          "base_uri": "https://localhost:8080/",
          "height": 34
        },
        "outputId": "e8bef92b-d4a2-46b2-ffa7-413eed87c0fc"
      },
      "source": [
        "from sklearn.preprocessing import LabelBinarizer\n",
        "\n",
        "lb = LabelBinarizer()\n",
        "dataset_label = data['STATUS'].values\n",
        "lb.fit(dataset_label)\n",
        "dataset_label_enc = lb.transform(dataset_label)\n",
        "dataset_label_enc.shape\n"
      ],
      "execution_count": 32,
      "outputs": [
        {
          "output_type": "execute_result",
          "data": {
            "text/plain": [
              "(9612, 1)"
            ]
          },
          "metadata": {
            "tags": []
          },
          "execution_count": 32
        }
      ]
    },
    {
      "cell_type": "markdown",
      "metadata": {
        "id": "jruFw4ClDpfJ",
        "colab_type": "text"
      },
      "source": [
        "# Concatenate normalized numerical features and one-hot encoded categorical features into `X` and denote label by `y`"
      ]
    },
    {
      "cell_type": "code",
      "metadata": {
        "id": "bQG2uKSv99Xg",
        "colab_type": "code",
        "colab": {
          "base_uri": "https://localhost:8080/",
          "height": 34
        },
        "outputId": "6712e380-c6d7-4334-deb6-9d076371e5e8"
      },
      "source": [
        "import numpy as np\n",
        "\n",
        "X = np.hstack([dataset_num_norm, dataset_cat_enc])\n",
        "y = dataset_label_enc\n",
        "X.shape, y.shape"
      ],
      "execution_count": 59,
      "outputs": [
        {
          "output_type": "execute_result",
          "data": {
            "text/plain": [
              "((9612, 1457), (9612, 1))"
            ]
          },
          "metadata": {
            "tags": []
          },
          "execution_count": 59
        }
      ]
    },
    {
      "cell_type": "markdown",
      "metadata": {
        "id": "M0qAYqDAPojS",
        "colab_type": "text"
      },
      "source": [
        "# Use 30% test 70% training data"
      ]
    },
    {
      "cell_type": "code",
      "metadata": {
        "id": "E_eHdl20Frbh",
        "colab_type": "code",
        "colab": {
          "base_uri": "https://localhost:8080/",
          "height": 34
        },
        "outputId": "d2324fd1-8808-4c56-d894-0dc6e7348f27"
      },
      "source": [
        "from sklearn.model_selection import train_test_split\n",
        "\n",
        "# split into train and test sets\n",
        "X_train, X_test, y_train, y_test = train_test_split(X, y, test_size=0.3, random_state=1)\n",
        "X_train.shape, X_test.shape, y_train.shape, y_test.shape"
      ],
      "execution_count": 62,
      "outputs": [
        {
          "output_type": "execute_result",
          "data": {
            "text/plain": [
              "((6728, 1457), (2884, 1457), (6728, 1), (2884, 1))"
            ]
          },
          "metadata": {
            "tags": []
          },
          "execution_count": 62
        }
      ]
    },
    {
      "cell_type": "markdown",
      "metadata": {
        "id": "y6RMJ0P7P_1O",
        "colab_type": "text"
      },
      "source": [
        "## Use Keras to train a neural network with one 5-node hidden layer and a 1-node sigmoid output layer"
      ]
    },
    {
      "cell_type": "code",
      "metadata": {
        "id": "EB5WuUE_KxrB",
        "colab_type": "code",
        "colab": {
          "base_uri": "https://localhost:8080/",
          "height": 221
        },
        "outputId": "be1d873b-763f-4eef-d57a-c3c8d5cc4f74"
      },
      "source": [
        "from keras.models import Sequential\n",
        "from keras.layers import Dense\n",
        "\n",
        "# define the  model\n",
        "model = Sequential()\n",
        "model.add(Dense(5, input_dim=X_train.shape[1], activation='relu'))\n",
        "model.add(Dense(1, activation='sigmoid'))\n",
        "# print the summary of the model.\n",
        "model.summary()"
      ],
      "execution_count": 64,
      "outputs": [
        {
          "output_type": "stream",
          "text": [
            "Model: \"sequential_2\"\n",
            "_________________________________________________________________\n",
            "Layer (type)                 Output Shape              Param #   \n",
            "=================================================================\n",
            "dense_3 (Dense)              (None, 5)                 7290      \n",
            "_________________________________________________________________\n",
            "dense_4 (Dense)              (None, 1)                 6         \n",
            "=================================================================\n",
            "Total params: 7,296\n",
            "Trainable params: 7,296\n",
            "Non-trainable params: 0\n",
            "_________________________________________________________________\n"
          ],
          "name": "stdout"
        }
      ]
    },
    {
      "cell_type": "code",
      "metadata": {
        "id": "cg9fX3TPNEkO",
        "colab_type": "code",
        "colab": {}
      },
      "source": [
        "# compile the keras model\n",
        "model.compile(loss='binary_crossentropy', optimizer='adam', metrics=['accuracy'])"
      ],
      "execution_count": 0,
      "outputs": []
    },
    {
      "cell_type": "code",
      "metadata": {
        "id": "1IxNrgLTNSHl",
        "colab_type": "code",
        "colab": {
          "base_uri": "https://localhost:8080/",
          "height": 1000
        },
        "outputId": "ede23c50-aa55-4963-bf56-eb7f8e88bfc5"
      },
      "source": [
        "# fit the keras model on the dataset\n",
        "model.fit(X_train, y_train, epochs=100, batch_size=16)"
      ],
      "execution_count": 66,
      "outputs": [
        {
          "output_type": "stream",
          "text": [
            "Epoch 1/100\n",
            "6728/6728 [==============================] - 1s 124us/step - loss: 0.6389 - accuracy: 0.6403\n",
            "Epoch 2/100\n",
            "6728/6728 [==============================] - 1s 81us/step - loss: 0.5529 - accuracy: 0.7503\n",
            "Epoch 3/100\n",
            "6728/6728 [==============================] - 1s 80us/step - loss: 0.5039 - accuracy: 0.7721\n",
            "Epoch 4/100\n",
            "6728/6728 [==============================] - 1s 81us/step - loss: 0.4750 - accuracy: 0.7836\n",
            "Epoch 5/100\n",
            "6728/6728 [==============================] - 1s 81us/step - loss: 0.4550 - accuracy: 0.7870\n",
            "Epoch 6/100\n",
            "6728/6728 [==============================] - 1s 82us/step - loss: 0.4413 - accuracy: 0.7915\n",
            "Epoch 7/100\n",
            "6728/6728 [==============================] - 1s 82us/step - loss: 0.4304 - accuracy: 0.7955\n",
            "Epoch 8/100\n",
            "6728/6728 [==============================] - 1s 82us/step - loss: 0.4216 - accuracy: 0.7990\n",
            "Epoch 9/100\n",
            "6728/6728 [==============================] - 1s 83us/step - loss: 0.4155 - accuracy: 0.8038\n",
            "Epoch 10/100\n",
            "6728/6728 [==============================] - 1s 91us/step - loss: 0.4091 - accuracy: 0.8025\n",
            "Epoch 11/100\n",
            "6728/6728 [==============================] - 1s 83us/step - loss: 0.4052 - accuracy: 0.8045\n",
            "Epoch 12/100\n",
            "6728/6728 [==============================] - 1s 82us/step - loss: 0.4011 - accuracy: 0.8060\n",
            "Epoch 13/100\n",
            "6728/6728 [==============================] - 1s 82us/step - loss: 0.3989 - accuracy: 0.8053\n",
            "Epoch 14/100\n",
            "6728/6728 [==============================] - 1s 83us/step - loss: 0.3958 - accuracy: 0.8087\n",
            "Epoch 15/100\n",
            "6728/6728 [==============================] - 1s 82us/step - loss: 0.3926 - accuracy: 0.8043\n",
            "Epoch 16/100\n",
            "6728/6728 [==============================] - 1s 81us/step - loss: 0.3902 - accuracy: 0.8078\n",
            "Epoch 17/100\n",
            "6728/6728 [==============================] - 1s 85us/step - loss: 0.3881 - accuracy: 0.8118\n",
            "Epoch 18/100\n",
            "6728/6728 [==============================] - 1s 83us/step - loss: 0.3874 - accuracy: 0.8077\n",
            "Epoch 19/100\n",
            "6728/6728 [==============================] - 1s 83us/step - loss: 0.3854 - accuracy: 0.8092\n",
            "Epoch 20/100\n",
            "6728/6728 [==============================] - 1s 82us/step - loss: 0.3837 - accuracy: 0.8105\n",
            "Epoch 21/100\n",
            "6728/6728 [==============================] - 1s 81us/step - loss: 0.3818 - accuracy: 0.8109\n",
            "Epoch 22/100\n",
            "6728/6728 [==============================] - 1s 83us/step - loss: 0.3814 - accuracy: 0.8133\n",
            "Epoch 23/100\n",
            "6728/6728 [==============================] - 1s 82us/step - loss: 0.3809 - accuracy: 0.8123\n",
            "Epoch 24/100\n",
            "6728/6728 [==============================] - 1s 83us/step - loss: 0.3801 - accuracy: 0.8108\n",
            "Epoch 25/100\n",
            "6728/6728 [==============================] - 1s 82us/step - loss: 0.3795 - accuracy: 0.8106\n",
            "Epoch 26/100\n",
            "6728/6728 [==============================] - 1s 87us/step - loss: 0.3780 - accuracy: 0.8111\n",
            "Epoch 27/100\n",
            "6728/6728 [==============================] - 1s 83us/step - loss: 0.3781 - accuracy: 0.8124\n",
            "Epoch 28/100\n",
            "6728/6728 [==============================] - 1s 83us/step - loss: 0.3774 - accuracy: 0.8144\n",
            "Epoch 29/100\n",
            "6728/6728 [==============================] - 1s 82us/step - loss: 0.3754 - accuracy: 0.8151\n",
            "Epoch 30/100\n",
            "6728/6728 [==============================] - 1s 83us/step - loss: 0.3761 - accuracy: 0.8112\n",
            "Epoch 31/100\n",
            "6728/6728 [==============================] - 1s 87us/step - loss: 0.3766 - accuracy: 0.8129\n",
            "Epoch 32/100\n",
            "6728/6728 [==============================] - 1s 83us/step - loss: 0.3751 - accuracy: 0.8145\n",
            "Epoch 33/100\n",
            "6728/6728 [==============================] - 1s 81us/step - loss: 0.3746 - accuracy: 0.8139\n",
            "Epoch 34/100\n",
            "6728/6728 [==============================] - 1s 81us/step - loss: 0.3727 - accuracy: 0.8150\n",
            "Epoch 35/100\n",
            "6728/6728 [==============================] - 1s 85us/step - loss: 0.3724 - accuracy: 0.8154\n",
            "Epoch 36/100\n",
            "6728/6728 [==============================] - 1s 82us/step - loss: 0.3728 - accuracy: 0.8141\n",
            "Epoch 37/100\n",
            "6728/6728 [==============================] - 1s 87us/step - loss: 0.3714 - accuracy: 0.8150\n",
            "Epoch 38/100\n",
            "6728/6728 [==============================] - 1s 82us/step - loss: 0.3722 - accuracy: 0.8108\n",
            "Epoch 39/100\n",
            "6728/6728 [==============================] - 1s 81us/step - loss: 0.3718 - accuracy: 0.8152\n",
            "Epoch 40/100\n",
            "6728/6728 [==============================] - 1s 80us/step - loss: 0.3708 - accuracy: 0.8158\n",
            "Epoch 41/100\n",
            "6728/6728 [==============================] - 1s 93us/step - loss: 0.3707 - accuracy: 0.8145\n",
            "Epoch 42/100\n",
            "6728/6728 [==============================] - 1s 88us/step - loss: 0.3711 - accuracy: 0.8169\n",
            "Epoch 43/100\n",
            "6728/6728 [==============================] - 1s 81us/step - loss: 0.3703 - accuracy: 0.8147\n",
            "Epoch 44/100\n",
            "6728/6728 [==============================] - 1s 93us/step - loss: 0.3703 - accuracy: 0.8121\n",
            "Epoch 45/100\n",
            "6728/6728 [==============================] - 1s 89us/step - loss: 0.3709 - accuracy: 0.8115\n",
            "Epoch 46/100\n",
            "6728/6728 [==============================] - 1s 86us/step - loss: 0.3695 - accuracy: 0.8173\n",
            "Epoch 47/100\n",
            "6728/6728 [==============================] - 1s 82us/step - loss: 0.3694 - accuracy: 0.8132\n",
            "Epoch 48/100\n",
            "6728/6728 [==============================] - 1s 82us/step - loss: 0.3699 - accuracy: 0.8184\n",
            "Epoch 49/100\n",
            "6728/6728 [==============================] - 1s 92us/step - loss: 0.3678 - accuracy: 0.8152\n",
            "Epoch 50/100\n",
            "6728/6728 [==============================] - 1s 88us/step - loss: 0.3685 - accuracy: 0.8175\n",
            "Epoch 51/100\n",
            "6728/6728 [==============================] - 1s 83us/step - loss: 0.3683 - accuracy: 0.8157\n",
            "Epoch 52/100\n",
            "6728/6728 [==============================] - 1s 80us/step - loss: 0.3672 - accuracy: 0.8199\n",
            "Epoch 53/100\n",
            "6728/6728 [==============================] - 1s 82us/step - loss: 0.3680 - accuracy: 0.8160\n",
            "Epoch 54/100\n",
            "6728/6728 [==============================] - 1s 82us/step - loss: 0.3664 - accuracy: 0.8170\n",
            "Epoch 55/100\n",
            "6728/6728 [==============================] - 1s 84us/step - loss: 0.3676 - accuracy: 0.8164\n",
            "Epoch 56/100\n",
            "6728/6728 [==============================] - 1s 87us/step - loss: 0.3668 - accuracy: 0.8173\n",
            "Epoch 57/100\n",
            "6728/6728 [==============================] - 1s 85us/step - loss: 0.3670 - accuracy: 0.8161\n",
            "Epoch 58/100\n",
            "6728/6728 [==============================] - 1s 88us/step - loss: 0.3664 - accuracy: 0.8176\n",
            "Epoch 59/100\n",
            "6728/6728 [==============================] - 1s 85us/step - loss: 0.3660 - accuracy: 0.8184\n",
            "Epoch 60/100\n",
            "6728/6728 [==============================] - 1s 94us/step - loss: 0.3660 - accuracy: 0.8154\n",
            "Epoch 61/100\n",
            "6728/6728 [==============================] - 1s 90us/step - loss: 0.3646 - accuracy: 0.8176\n",
            "Epoch 62/100\n",
            "6728/6728 [==============================] - 1s 92us/step - loss: 0.3650 - accuracy: 0.8179\n",
            "Epoch 63/100\n",
            "6728/6728 [==============================] - 1s 82us/step - loss: 0.3648 - accuracy: 0.8176\n",
            "Epoch 64/100\n",
            "6728/6728 [==============================] - 1s 89us/step - loss: 0.3649 - accuracy: 0.8169\n",
            "Epoch 65/100\n",
            "6728/6728 [==============================] - 1s 85us/step - loss: 0.3653 - accuracy: 0.8155\n",
            "Epoch 66/100\n",
            "6728/6728 [==============================] - 1s 80us/step - loss: 0.3633 - accuracy: 0.8175\n",
            "Epoch 67/100\n",
            "6728/6728 [==============================] - 1s 84us/step - loss: 0.3641 - accuracy: 0.8145\n",
            "Epoch 68/100\n",
            "6728/6728 [==============================] - 1s 82us/step - loss: 0.3638 - accuracy: 0.8170\n",
            "Epoch 69/100\n",
            "6728/6728 [==============================] - 1s 83us/step - loss: 0.3638 - accuracy: 0.8161\n",
            "Epoch 70/100\n",
            "6728/6728 [==============================] - 1s 80us/step - loss: 0.3642 - accuracy: 0.8182\n",
            "Epoch 71/100\n",
            "6728/6728 [==============================] - 1s 89us/step - loss: 0.3632 - accuracy: 0.8182\n",
            "Epoch 72/100\n",
            "6728/6728 [==============================] - 1s 92us/step - loss: 0.3636 - accuracy: 0.8205\n",
            "Epoch 73/100\n",
            "6728/6728 [==============================] - 1s 83us/step - loss: 0.3623 - accuracy: 0.8219\n",
            "Epoch 74/100\n",
            "6728/6728 [==============================] - 1s 84us/step - loss: 0.3625 - accuracy: 0.8219\n",
            "Epoch 75/100\n",
            "6728/6728 [==============================] - 1s 89us/step - loss: 0.3625 - accuracy: 0.8193\n",
            "Epoch 76/100\n",
            "6728/6728 [==============================] - 1s 86us/step - loss: 0.3625 - accuracy: 0.8185\n",
            "Epoch 77/100\n",
            "6728/6728 [==============================] - 1s 86us/step - loss: 0.3627 - accuracy: 0.8196\n",
            "Epoch 78/100\n",
            "6728/6728 [==============================] - 1s 88us/step - loss: 0.3617 - accuracy: 0.8222\n",
            "Epoch 79/100\n",
            "6728/6728 [==============================] - 1s 88us/step - loss: 0.3614 - accuracy: 0.8222\n",
            "Epoch 80/100\n",
            "6728/6728 [==============================] - 1s 93us/step - loss: 0.3607 - accuracy: 0.8196\n",
            "Epoch 81/100\n",
            "6728/6728 [==============================] - 1s 90us/step - loss: 0.3610 - accuracy: 0.8219\n",
            "Epoch 82/100\n",
            "6728/6728 [==============================] - 1s 98us/step - loss: 0.3601 - accuracy: 0.8191\n",
            "Epoch 83/100\n",
            "6728/6728 [==============================] - 1s 87us/step - loss: 0.3611 - accuracy: 0.8210\n",
            "Epoch 84/100\n",
            "6728/6728 [==============================] - 1s 93us/step - loss: 0.3613 - accuracy: 0.8219\n",
            "Epoch 85/100\n",
            "6728/6728 [==============================] - 1s 90us/step - loss: 0.3600 - accuracy: 0.8231\n",
            "Epoch 86/100\n",
            "6728/6728 [==============================] - 1s 88us/step - loss: 0.3600 - accuracy: 0.8234\n",
            "Epoch 87/100\n",
            "6728/6728 [==============================] - 1s 96us/step - loss: 0.3600 - accuracy: 0.8202\n",
            "Epoch 88/100\n",
            "6728/6728 [==============================] - 1s 95us/step - loss: 0.3595 - accuracy: 0.8221\n",
            "Epoch 89/100\n",
            "6728/6728 [==============================] - 1s 94us/step - loss: 0.3599 - accuracy: 0.8234\n",
            "Epoch 90/100\n",
            "6728/6728 [==============================] - 1s 83us/step - loss: 0.3583 - accuracy: 0.8224\n",
            "Epoch 91/100\n",
            "6728/6728 [==============================] - 1s 88us/step - loss: 0.3583 - accuracy: 0.8209\n",
            "Epoch 92/100\n",
            "6728/6728 [==============================] - 1s 87us/step - loss: 0.3583 - accuracy: 0.8221\n",
            "Epoch 93/100\n",
            "6728/6728 [==============================] - 1s 82us/step - loss: 0.3585 - accuracy: 0.8242\n",
            "Epoch 94/100\n",
            "6728/6728 [==============================] - 1s 83us/step - loss: 0.3581 - accuracy: 0.8206\n",
            "Epoch 95/100\n",
            "6728/6728 [==============================] - 1s 83us/step - loss: 0.3577 - accuracy: 0.8190\n",
            "Epoch 96/100\n",
            "6728/6728 [==============================] - 1s 86us/step - loss: 0.3582 - accuracy: 0.8218\n",
            "Epoch 97/100\n",
            "6728/6728 [==============================] - 1s 83us/step - loss: 0.3571 - accuracy: 0.8242\n",
            "Epoch 98/100\n",
            "6728/6728 [==============================] - 1s 85us/step - loss: 0.3565 - accuracy: 0.8228\n",
            "Epoch 99/100\n",
            "6728/6728 [==============================] - 1s 83us/step - loss: 0.3567 - accuracy: 0.8233\n",
            "Epoch 100/100\n",
            "6728/6728 [==============================] - 1s 96us/step - loss: 0.3561 - accuracy: 0.8261\n"
          ],
          "name": "stdout"
        },
        {
          "output_type": "execute_result",
          "data": {
            "text/plain": [
              "<keras.callbacks.callbacks.History at 0x7f487c577e48>"
            ]
          },
          "metadata": {
            "tags": []
          },
          "execution_count": 66
        }
      ]
    },
    {
      "cell_type": "markdown",
      "metadata": {
        "id": "FWz-IUeCQkoa",
        "colab_type": "text"
      },
      "source": [
        "# Evaluate the accuracy of the prediction"
      ]
    },
    {
      "cell_type": "code",
      "metadata": {
        "id": "9HN4kqxJNw2t",
        "colab_type": "code",
        "colab": {
          "base_uri": "https://localhost:8080/",
          "height": 51
        },
        "outputId": "6b8512d2-2106-4981-f2f3-4f3d5bea299d"
      },
      "source": [
        "# evaluate the keras model\n",
        "_, accuracy = model.evaluate(X_test, y_test)\n",
        "print('accuracy = ' + str(accuracy))"
      ],
      "execution_count": 70,
      "outputs": [
        {
          "output_type": "stream",
          "text": [
            "2884/2884 [==============================] - 0s 34us/step\n",
            "accuracy = 0.7534673810005188\n"
          ],
          "name": "stdout"
        }
      ]
    },
    {
      "cell_type": "code",
      "metadata": {
        "id": "feu_g1FMOzrM",
        "colab_type": "code",
        "colab": {
          "base_uri": "https://localhost:8080/",
          "height": 136
        },
        "outputId": "05458b55-3535-40ea-a39b-f577e7f4dbfe"
      },
      "source": [
        "# prediction from the keras model\n",
        "y_pred = model.predict_classes(X_test)\n",
        "y_pred"
      ],
      "execution_count": 72,
      "outputs": [
        {
          "output_type": "execute_result",
          "data": {
            "text/plain": [
              "array([[0],\n",
              "       [0],\n",
              "       [1],\n",
              "       ...,\n",
              "       [0],\n",
              "       [1],\n",
              "       [1]], dtype=int32)"
            ]
          },
          "metadata": {
            "tags": []
          },
          "execution_count": 72
        }
      ]
    },
    {
      "cell_type": "code",
      "metadata": {
        "id": "jpt6cQs6PN_6",
        "colab_type": "code",
        "colab": {
          "base_uri": "https://localhost:8080/",
          "height": 136
        },
        "outputId": "1e5d2930-a9bf-419d-e313-604a6dc53735"
      },
      "source": [
        "# A table to compare y_pred with y_test\n",
        "y_compare = np.hstack((y_test, y_pred))\n",
        "y_compare"
      ],
      "execution_count": 74,
      "outputs": [
        {
          "output_type": "execute_result",
          "data": {
            "text/plain": [
              "array([[0, 0],\n",
              "       [0, 0],\n",
              "       [0, 1],\n",
              "       ...,\n",
              "       [1, 0],\n",
              "       [1, 1],\n",
              "       [1, 1]])"
            ]
          },
          "metadata": {
            "tags": []
          },
          "execution_count": 74
        }
      ]
    }
  ]
}